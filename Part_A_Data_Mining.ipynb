{
 "cells": [
  {
   "cell_type": "markdown",
   "source": "# Data Mining and Visualization of the South Park (SP) Wiki Archives\n\nThis notebook documents the final project assignment of the course 02805, social graphs and interactions. This ntoebook is accompanied by a Web site. The Web site serves as a more superficial overview of this project, whereas this notebook goes into the nitty gritty details of how all the results were achieved and calculated. \n\nWe chose South Park for our project because of the rich data sets that are available online. Specifically, we were limited to using a Wiki as our main source and the South Park Archives Wiki (https://southpark.fandom.com/wiki/South_Park_Archives) has an amazing amount of data on almost two thousand characters from over 20 seasons. As we were encouraged to choose datasets, which would allow for large networks with many nodes, we thought that an innocent children’s show with such a deep data pool is the obvious choice! \n\nOur analysis focused on the entire network, however, we have also looked deeper into some of the main and major characters. We started out by building a large dataframe with all the characters, their genders, roles, and other attributes. Notebook A is where all of the data mining details are. Where as teh data analysis can be found in ntoebook B. This includes various networks, with different algorithms. These networks are built and visualised as beautifully as possible for three engineering students. Lastly, the sentiment, and communities are analysed, and some South Park word clouds are drawn. ",
   "metadata": {
    "tags": [],
    "cell_id": "00000-ea32ea71-9897-43d8-9392-6c2802f47060",
    "deepnote_cell_type": "markdown"
   }
  },
  {
   "cell_type": "markdown",
   "source": "\n### **Purpose:**\nThs part mostly handles data mining and curating for the purpose of:\n- API handling of the wiki pages\n- creating a DataFrame object containing SouthPark (SP) characters and their attributes\n- data visualization done on the DataFrame object\n- creating the SP graphs\n- downloading TXT files from the  JSON contents\n- compiling clean word tokens of the TXT files\n\n### **WorkFlow:**\n1) APIs of the Wiki Pages were handled in order to retrieve the relevant JSON contents containing the relevant information of the wiki pages. Information regarding the SP characters and their role using RegEx patterns. And initial DataFrame object was formed.\n\n4) Using the retrieved JSON contents, TXT files containing the relevant information for each South Park character was downloaded and stored in the folder: Characters_txt_files. Those files were used to extract the gender, race, and epoisode appearance attributes. \n\n2) The SP characters as well as the retrieved attributes were added in a DataFrame object 'df_final', which was processed and stored for later usage as a CSV file: df_final_SouthPark_characters.csv. The attributes of df_final, which were categorical variables, were visualized using bar charts in order to asses the predominant attributes. \n\n3) Using the data from the DataFrame object, 2 graph were created (see subsection: Graphs) and exported as: graph.gexf and graph_game.gexf. Visualization of those graphs can be found in Part B. \n\n5) The TXT files from the Characters_txt_files folder were processed (clean word tokens were extracted) and saved under the folder: Characters_clean_tokens. The clear token files were used for further text analysis in Part B. \n##### **Main Wiki Fandoms:**\n\nSouth Park Archives: https://southpark.fandom.com/wiki/South_Park_Archives \n\nSouth Park Archives: Wiki page for each SP character\n\nSouth Park Archives: Stick of Truth: https://southpark.fandom.com/wiki/South_Park:_The_Stick_of_Truth \n\n#### **API handling**\n\nWas done using these Wiki fandoms, as well as the Wiki page archive of each South Park character. \n\n\n#### **TXT files**\n\nThe TXT for each character were downloaded using the API content. A TXT file contains the main text content of the Wiki page for each South Park character \n\n\n#### **DataFrame object: df_final**\n\nA DataFram object 'df_final' was be compiled, containing:\n- Name: API  name of each South Park character (handling special characters)\n- Real_Name: real name of each South Park character (as it appears on the Wiki page)\n- Role: role in the 'Stick of Truth' Game: Playable Characters, Enemies, Land of Zaron, Merchants or Not in the Game\n- Attr: characters' role in the series (main character, major-supportive character, other (if not specified))\n- Gender: Male, Female or Unknown\n- Race: race of each South Park character\n- Appearance: Episode appearance\n\n#### **Graphs**\n##### **South Park Graph for the whole Series**\n\n**Nodes**: characters from the whole South Park Series\n**Node Attributes**:\n - real name: character name as it appears on the Wiki page\n - game role: Playable Characters, Enemies, Land of Zaron, Merchants or Not in the Game\n - series role: characters' role in the series (main character, major-supportive character, other (if not specified))\n - gender: Male, Female or Unknown\n - race\n - episode appearance\n\n**Edges**: each character will be linked to the other characters based on their interractions given by the Wiki pages\n\n##### **South Park Graph for the whole Game**\n\n**Nodes**: SP characters apparing in the Stick of Truth Game\n**Node Attributes**:\n - real name: character name as it appears on the Wiki page\n - game role: Playable Characters, Enemies, Land of Zaron, Merchants or Not in the Game\n - series role: characters' role in the series (main character, major-supportive character, other (if not specified))\n - gender\n - race\n\n**Edges**: each character will be linked to the other characters based on their interractions given by the Wiki pages\n\n\n#### **Clean Token files**\n\nBased on the TXT files, clean word tokens were compiled and saved for each South Park character.\n",
   "metadata": {
    "cell_id": "00001-214fe125-fca0-4739-b2c7-4a21611976f7",
    "tags": [],
    "deepnote_cell_type": "markdown"
   }
  },
  {
   "cell_type": "markdown",
   "source": "# Package pre-requisites",
   "metadata": {
    "cell_id": "00001-bd3dc140-b3ea-463f-99ff-daac894249f3",
    "deepnote_cell_type": "markdown"
   }
  },
  {
   "cell_type": "code",
   "metadata": {
    "cell_id": "00002-082309ee-8ed0-4c6f-8c3c-3dc0a2f6d9f8",
    "deepnote_output_heights": [
     38
    ],
    "deepnote_to_be_reexecuted": false,
    "source_hash": "c90411bd",
    "execution_start": 1638965982443,
    "execution_millis": 46,
    "deepnote_cell_type": "code"
   },
   "source": "# Pre-requisites to run this notebook: install the packages\n'''\n!pip install numpy\n!pip install pandas\n!pip install networkx\n!pip install fa2\n!pip install plotly==5.4.0\n!pip install python-louvain\n!pip install nltk\n!pip install urlib\n'''",
   "outputs": [
    {
     "output_type": "execute_result",
     "execution_count": 1,
     "data": {
      "text/plain": "'\\n!pip install numpy\\n!pip install pandas\\n!pip install networkx\\n!pip install fa2\\n!pip install plotly==5.4.0\\n!pip install python-louvain\\n!pip install nltk\\n!pip install urlib\\n'"
     },
     "metadata": {}
    }
   ],
   "execution_count": null
  },
  {
   "cell_type": "code",
   "metadata": {
    "cell_id": "00003-97077de7-f98e-403d-9ec6-d7d2cb05437b",
    "deepnote_to_be_reexecuted": false,
    "source_hash": "f898c1f0",
    "execution_start": 1638965982488,
    "execution_millis": 2734,
    "deepnote_cell_type": "code"
   },
   "source": "# Test for package requirements\nimport numpy as np\nimport networkx as nx\nimport plotly\nimport community.community_louvain\nimport nltk\nimport fa2\nimport pandas\nimport seaborn as sns\nfrom matplotlib import pyplot as plt\nfrom tqdm import tqdm",
   "outputs": [],
   "execution_count": null
  },
  {
   "cell_type": "code",
   "metadata": {
    "cell_id": "00001-407316ff-cce7-4d04-9a7d-5febdb5ca0c2",
    "deepnote_to_be_reexecuted": false,
    "execution_millis": 3,
    "execution_start": 1638965985234,
    "source_hash": "929f6a74",
    "tags": [],
    "deepnote_cell_type": "code"
   },
   "source": "# setting up a random seed\nimport random\nrandom.seed(10)\nimport random\nimport numpy as np\nseed = 123\nrandom.seed(seed)\nnp.random.seed(seed)",
   "outputs": [],
   "execution_count": null
  },
  {
   "cell_type": "markdown",
   "source": "# API Handling\n",
   "metadata": {
    "cell_id": "00002-8b7f06da-8a93-4463-b611-b69ab76c782a",
    "tags": [],
    "deepnote_cell_type": "markdown"
   }
  },
  {
   "cell_type": "markdown",
   "source": "### List of characters from the whole South Park Series\n- Compile a list of characters from the API retrieved from the link: https://southpark.fandom.com/wiki/Portal:Characters",
   "metadata": {
    "cell_id": "00002-c609773b-a013-40fc-a0c3-fc5db592d474",
    "tags": [],
    "deepnote_cell_type": "markdown"
   }
  },
  {
   "cell_type": "markdown",
   "source": "The following block of code queries the South Park Wiki in order to retrieve all of the characters as a list. ",
   "metadata": {
    "tags": [],
    "cell_id": "00007-06c7b530-55cb-4c60-80ea-93f3137b9ec8",
    "deepnote_cell_type": "markdown"
   }
  },
  {
   "cell_type": "code",
   "metadata": {
    "cell_id": "00003-287cc12f-02be-4b7f-9d44-0ea50d59e04b",
    "deepnote_to_be_reexecuted": false,
    "execution_millis": 187,
    "execution_start": 1638990411841,
    "source_hash": "72082e1f",
    "tags": [],
    "deepnote_cell_type": "code"
   },
   "source": "# Series\nimport urllib.request\nimport json\nimport re\nimport pandas as pd\n\n# retrieve the API\nbaseURL = \"https://southpark.fandom.com/api.php?\"\ntitles = \"titles=Portal:Characters\"\naction = action = \"action=query\"\ndataformat = \"format=json\"\ncontent = \"prop=revisions&rvprop=content&rvslots=*\"\n\nquery = \"{}{}&{}&{}&{}\".format(baseURL, action, content, titles, dataformat)\n\nresponse = urllib.request.urlopen(query)\n\n#The data is read and processed.\ndata = response.read()\ntext_ch = data.decode(\"utf-8\")\ntojson = json.loads(text_ch)\n#All links are found in square brackets.\n#The following regex pattern retrieves the names. \npattern = r\"\\[\\[([^:]*?)\\]\\]\"\ntojson = re.findall(pattern, str(tojson))\n\nlist_of_characters = []\n\n#The extracted character names are appended to a list, and if the \"|\"\n#character exists, only the everything before it is appended. \nfor i in tojson:\n    if i.find(\"|\") != 1:\n        list_of_characters.append(i.split(\"|\")[0])\n    else:\n        list_of_characters.append(i)\n\n# compile the list of characters\n#Only the unique values are kept, all duplicates are removed. \nunique_character_list_series = list(set(list_of_characters))\n\ncharacter_list_for_query_series = []\n#The character names are tidied up by replacing various characters. \nfor i in unique_character_list_series:\n    name = i.replace(\"\\\\\", \"\")\n    name = i.replace(\" \", \"_\")\n    character_list_for_query_series.append(name)\n",
   "outputs": [],
   "execution_count": null
  },
  {
   "cell_type": "markdown",
   "source": "### List of Game characters from 'South Park: Stick of Truth'\n- Compile a list of characters from the API retrieved from the link: https://southpark.fandom.com/wiki/South_Park:_The_Stick_of_Truth/Characters\n",
   "metadata": {
    "cell_id": "00003-1abefc88-cf5f-41c7-aa54-697fc766df47",
    "tags": [],
    "deepnote_cell_type": "markdown"
   }
  },
  {
   "cell_type": "code",
   "metadata": {
    "cell_id": "00004-f7705358-597e-4324-9fd3-ad01d323b4b3",
    "deepnote_to_be_reexecuted": false,
    "execution_millis": 63,
    "execution_start": 1638965985449,
    "source_hash": "791c2743",
    "tags": [],
    "deepnote_cell_type": "code"
   },
   "source": "import urllib.request\nimport json\nimport re\nimport pandas as pd\n\n# retrieve the API\nbaseURL = \"https://southpark.fandom.com/api.php?\"\ntitles = \"titles=South_Park:_The_Stick_of_Truth/Characters\"\naction = action = \"action=query\"\ndataformat = \"format=json\"\ncontent = \"prop=revisions&rvprop=content&rvslots=*\"\n\nquery = \"{}{}&{}&{}&{}\".format(baseURL, action, content, titles, dataformat)\n\nresponse = urllib.request.urlopen(query)\ndata = response.read()\ntext_ch = data.decode(\"utf-8\")\ntojson = json.loads(text_ch)\npattern = r\"\\[\\[([^:]*?)\\]\\]\"\ntojson = re.findall(pattern, str(tojson))\n\nlist_of_characters = []\n\n# form the list of characters\nfor i in tojson:\n    if i.find(\"|\") != 1:\n        list_of_characters.append(i.split(\"|\")[0])\n    else:\n        list_of_characters.append(i)\n\nunique_character_list = list(set(list_of_characters))\n\ncharacter_list_for_query_game = []\nfor i in unique_character_list:\n    name = i.replace(\"\\\\\", \"\")\n    name = i.replace(\" \", \"_\")\n    character_list_for_query_game.append(name)\n\n#print(len(character_list_for_query_game))",
   "outputs": [],
   "execution_count": null
  },
  {
   "cell_type": "code",
   "metadata": {
    "cell_id": "00004-9199c54a-3a70-48af-a0fa-84e3978bd34a",
    "deepnote_to_be_reexecuted": false,
    "execution_millis": 0,
    "execution_start": 1638965985567,
    "source_hash": "5409d66a",
    "tags": [],
    "deepnote_cell_type": "code"
   },
   "source": "# get characters by their attributes\n# compile a list of role attributes based on the characters in the game\nimport itertools\ncharacters_txt =json.loads(text_ch) \n#print(characters_txt)\npatterns = [r'\\\\n\\\\n==Playable Characters.*?\\\\n\\\\n', r'\\\\n\\\\n==Summons.*?\\\\n\\\\n', \n            r'\\\\n\\\\n==The Land of Zaron.*(?=Enemies)', r'\\\\n\\\\n==Enemies.*(?=Merchants)',\n            r'\\\\n\\\\n==Merchants.*?\\\\n\\\\n', r'\\\\n\\\\n==Other characters.*(?=Crab)']\nattributes = []\n\nfor i in patterns:\n    pattern2 = r\"\\[\\[([^:]*?)\\]\\]\"\n    ch = re.findall(i, str(characters_txt))\n    playable_ch = re.findall(pattern2, str(ch))\n\n    playable_characters = []\n\n    for i in playable_ch:\n        if i.find(\"|\") != 1:\n            playable_characters.append(i.split(\"|\")[0])\n        else:\n            playable_characters.append(i)\n\n    #print(playable_characters)\n\n    unique_playable_characters = list(set(playable_characters))\n\n    playable_character_uniq = []\n\n    for i in unique_playable_characters:\n        name = i.replace(\"\\\\\", \"\")\n        name = i.replace(\" \", \"_\")\n        playable_character_uniq.append(name)\n        attributes.append(playable_character_uniq)\n\n\nattributes = [list(tupl) for tupl in {tuple(item) for item in attributes }]\nattributes.sort(key=len, reverse =True)\n#print(attributes)",
   "outputs": [],
   "execution_count": null
  },
  {
   "cell_type": "markdown",
   "source": "## Initializing a DataFrame object:\n- containing the South Park series characters and their role in the 'Stick of Truth' game",
   "metadata": {
    "cell_id": "00011-7fd40543-e2bd-484c-ad6b-5531c0585feb",
    "deepnote_cell_type": "markdown"
   }
  },
  {
   "cell_type": "code",
   "metadata": {
    "cell_id": "00009-1f580064-658f-41fc-88e9-5aed343396a3",
    "deepnote_to_be_reexecuted": false,
    "execution_millis": 0,
    "execution_start": 1638965985612,
    "source_hash": "dc3c2652",
    "tags": [],
    "deepnote_cell_type": "code"
   },
   "source": "# creating the DataFrame object with the list of characters and game role (for now)\ndf = pd.DataFrame(attributes[0])\ndf.columns = [\"Name\"]\ndf['Role'] = \"Other characters\"\n\ndf1 = pd.DataFrame(attributes[1])\ndf1.columns = [\"Name\"]\ndf1['Role'] = \"Land of Zaron\"\n\ndf2 = pd.DataFrame(attributes[2])\ndf2.columns = [\"Name\"]\ndf2['Role'] = \"Enemies\"\n\ndf3 = pd.DataFrame(attributes[3])\ndf3.columns = [\"Name\"]\ndf3['Role'] = \"Merchants\"\n\ndf4 = pd.DataFrame(attributes[4])\ndf4.columns = [\"Name\"]\ndf4['Role'] = \"Playable Characters\"\n\ndf5 = pd.DataFrame(attributes[5])\ndf5.columns = [\"Name\"]\ndf5['Role'] = \"Summons\"\n\ndf6 = pd.DataFrame(character_list_for_query_series)\ndf6.columns = [\"Name\"]\ndf6['Role'] = \"Not in the game\"\n\ndf_final = pd.concat([df,df1,df2,df3,df4,df5, df6],ignore_index=True)\n\ndf_final['Real_Name'] = [s.replace('_',' ') for s in df_final['Name']]\n\ndf_final = df_final.drop_duplicates(subset=['Name'], keep='first')",
   "outputs": [],
   "execution_count": null
  },
  {
   "cell_type": "markdown",
   "source": "#### Find the role cathegory for each character in the whole South Park series",
   "metadata": {
    "tags": [],
    "cell_id": "00013-d4e04340-94a4-4ce9-8c1c-dd6068f1dcab",
    "deepnote_cell_type": "markdown"
   }
  },
  {
   "cell_type": "code",
   "metadata": {
    "cell_id": "00051-4bd556bb-6ed0-4e05-b627-989575d66e75",
    "deepnote_to_be_reexecuted": false,
    "execution_millis": 93,
    "execution_start": 1638965985613,
    "source_hash": "1ff9d8fd",
    "tags": [],
    "deepnote_cell_type": "code"
   },
   "source": "import urllib.request\nimport json\nimport re\nimport pandas as pd\n\n#API queries are sent exactly like in the previous blocks. \nbaseURL = \"https://southpark.fandom.com/api.php?\"\ntitles = \"titles=Portal:Characters/Categorized_Characters\"\naction = action = \"action=query\"\ndataformat = \"format=json\"\ncontent = \"prop=revisions&rvprop=content&rvslots=*\"\n\nquery = \"{}{}&{}&{}&{}\".format(baseURL, action, content, titles, dataformat)\n\nresponse = urllib.request.urlopen(query)\ndata = response.read()\ntext_ch = data.decode(\"utf-8\")\ntojson = json.loads(text_ch)\n\n#We search for 3 different patterns. These patterns find all characters \n#from the page above. \n#This is done for a few reasons, one of which is the flagpole problem with \n#the tags. \npattern = r\"\\\\n===(.*?)\\\\n\\\\n===\"\npattern2 = r\"\\\\n\\\\n===(.*?)\\\\n===\"\ntojson_odd = re.findall(pattern, str(tojson)) #first = Groups and cliquies. last = Zeus\ntojson_even = re.findall(pattern2, str(tojson)) #first = kindergartners. last = Will Barton\npattern3 = r\"\\\\n\\\\n===Television\\\\u200e Celebrities===\\\\n(.*?)\\\\n\\\\n\\{\"\ntojson_3 = re.findall(pattern3, str(tojson)) #first = kindergartners. last = Will Barton\n\n#The same pattern as before can be used to retrieve the names. \npattern_name = r\"\\[\\[(.*?)\\]\\]\"\ntojson_3_names = re.findall(pattern_name, str(tojson_3))",
   "outputs": [],
   "execution_count": null
  },
  {
   "cell_type": "markdown",
   "source": "Because of how the Wiki is structured, and to deal with issues like the flagpole problem, it is necessary to go through all the odd instances of characters, all the even, and the last instance because they do not get picked up by the odd and even patterns and need the pattern called 3. \n\nNote that, the strings \"attr:+\" and \"+§+\" are used to easier split them appart later. \n\nThe code below goes through the 3 scenarios, edits the characters so the names match the ones in the dataframe. ",
   "metadata": {
    "tags": [],
    "cell_id": "00016-e33b2794-882b-44af-b811-c984895df0ca",
    "deepnote_cell_type": "markdown"
   }
  },
  {
   "cell_type": "code",
   "metadata": {
    "cell_id": "00075-e5c4dad8-c6dc-4c34-833e-a200c040a3aa",
    "deepnote_output_heights": [
     null,
     21.199996948242188
    ],
    "deepnote_to_be_reexecuted": false,
    "execution_millis": 4597,
    "execution_start": 1638965985783,
    "source_hash": "a2010252",
    "tags": [],
    "deepnote_cell_type": "code"
   },
   "source": "list_of_characters = []\n\npattern_temp = r\"(.*)===\\\\n\"\nfor i in range(len(tojson_odd)):\n    category = (re.findall(pattern_temp, str(tojson_odd[i])))\n    char_in_category = (re.findall(pattern_name, str(tojson_odd[i])))\n\n    list_of_characters.append(category + char_in_category)\n\nfinal_list_of_characters = []\nfor i in range(len(list_of_characters)):\n    for j in list_of_characters[i]:\n        category = list_of_characters[i][0]\n        if j.find(\"|\") != 1:\n            final_list_of_characters.append(\"attr:+\" + category + \"+§+\" \"char:!\" + j.split(\"|\")[0])\n        else:\n            final_list_of_characters.append(\"attr:+\" + category + \"+§+\" \"char:!\" + j)\n\nultimately_final_list_of_characters_and_attributes = []\nfor i in range(len(final_list_of_characters)):\n    name = final_list_of_characters[i].replace(\"\\\\\", \"\")\n    name = final_list_of_characters[i].replace(\" \", \"_\")\n\n    ultimately_final_list_of_characters_and_attributes.append(name)\n\nchar_with_index = []\ncat_with_index = []\n\nfor i in range(len(ultimately_final_list_of_characters_and_attributes)):\n    character = ultimately_final_list_of_characters_and_attributes[i][ultimately_final_list_of_characters_and_attributes[i].find(\"!\")+1:]\n    category = ultimately_final_list_of_characters_and_attributes[i][6:ultimately_final_list_of_characters_and_attributes[i].find(\"+§+\")]\n    category = category.replace(\"_\", \" \")\n\n    cat_with_index.append(category)\n    char_with_index.append(character)",
   "outputs": [],
   "execution_count": null
  },
  {
   "cell_type": "code",
   "metadata": {
    "cell_id": "00075-60918b85-e926-4f26-8356-90a10c364c85",
    "deepnote_to_be_reexecuted": false,
    "execution_millis": 537,
    "execution_start": 1638965990971,
    "source_hash": "c0871f9d",
    "tags": [],
    "deepnote_cell_type": "code"
   },
   "source": "list_of_characters = []\n\npattern_temp = r\"(.*)===\\\\n\"\nfor i in range(len(tojson_even)):\n    category = (re.findall(pattern_temp, str(tojson_even[i])))\n    char_in_category = (re.findall(pattern_name, str(tojson_even[i])))\n\n    list_of_characters.append(category + char_in_category)\n\nfinal_list_of_characters = []\nfor i in range(len(list_of_characters)):\n    for j in list_of_characters[i]:\n            category = list_of_characters[i][0]\n            if j.find(\"|\") != 1:\n                final_list_of_characters.append(\"attr:+\" + category + \"+§+\" \"char:!\" + j.split(\"|\")[0])\n            else:\n                final_list_of_characters.append(\"attr:+\" + category + \"+§+\" \"char:!\" + j)\n\nultimately_final_list_of_characters_and_attributes = []\nfor i in range(len(final_list_of_characters)):\n    name = final_list_of_characters[i].replace(\"\\\\\", \"\")\n    name = final_list_of_characters[i].replace(\" \", \"_\")\n\n    ultimately_final_list_of_characters_and_attributes.append(name)\n\nfor i in range(len(ultimately_final_list_of_characters_and_attributes)):\n    character = ultimately_final_list_of_characters_and_attributes[i][ultimately_final_list_of_characters_and_attributes[i].find(\"!\")+1:]\n    category = ultimately_final_list_of_characters_and_attributes[i][6:ultimately_final_list_of_characters_and_attributes[i].find(\"+§+\")]\n    category = category.replace(\"_\", \" \")\n\n    cat_with_index.append(category)\n    char_with_index.append(character)",
   "outputs": [
    {
     "name": "stdout",
     "text": "Sports Celebrities Vince_McMahon\nSports Celebrities Will_Barton\n944\n",
     "output_type": "stream"
    }
   ],
   "execution_count": null
  },
  {
   "cell_type": "code",
   "metadata": {
    "cell_id": "00079-07be9668-94f3-47df-8eb6-edd33b9c0290",
    "deepnote_to_be_reexecuted": false,
    "execution_millis": 4215115,
    "execution_start": 1638965991381,
    "source_hash": "5a98efde",
    "tags": [],
    "deepnote_cell_type": "code"
   },
   "source": "#The category is added manually. \ntojson_3_names.insert(0, \"Television‎ Celebrities\")",
   "outputs": [],
   "execution_count": null
  },
  {
   "cell_type": "code",
   "metadata": {
    "cell_id": "00080-95dba759-40af-41a3-80e5-b17c2f63e073",
    "deepnote_to_be_reexecuted": false,
    "execution_millis": 4215116,
    "execution_start": 1638965991395,
    "source_hash": "15d478d7",
    "tags": [],
    "deepnote_cell_type": "code"
   },
   "source": "for i in range(len(tojson_3_names)):\n    tojson_3_names[i] = tojson_3_names[i].replace(\"\\\\\", \"\")\n    tojson_3_names[i] = tojson_3_names[i].replace(\" \", \"_\")",
   "outputs": [],
   "execution_count": null
  },
  {
   "cell_type": "code",
   "metadata": {
    "cell_id": "00082-6ffd0d4c-ba22-4a7c-82da-987c142a9260",
    "deepnote_to_be_reexecuted": false,
    "execution_millis": 4215114,
    "execution_start": 1638965991407,
    "source_hash": "e145c425",
    "tags": [],
    "deepnote_cell_type": "code"
   },
   "source": "category = tojson_3_names[0]\n\nnew_list = []\nfor i in range(1, len(tojson_3_names)):\n    new_list.append(\"attr:+\" + category + \"+§+\" \"char:!\" + tojson_3_names[i])",
   "outputs": [],
   "execution_count": null
  },
  {
   "cell_type": "markdown",
   "source": "All the characters are iterated over and a new list is created with a matching index for the character and their attribute. This is done so that the attributes can be inserted into the dataframe with all the information. ",
   "metadata": {
    "tags": [],
    "cell_id": "00022-90582ab6-943f-48fd-8ab3-8e64cd662137",
    "deepnote_cell_type": "markdown"
   }
  },
  {
   "cell_type": "code",
   "metadata": {
    "cell_id": "00083-2a63782b-4b84-42c4-92fa-d66338d0fabd",
    "deepnote_to_be_reexecuted": false,
    "execution_millis": 4215095,
    "execution_start": 1638965991431,
    "source_hash": "29ae0e0e",
    "tags": [],
    "deepnote_cell_type": "code"
   },
   "source": "for i in range(len(new_list)):\n    character = new_list[i][new_list[i].find(\"!\")+1:]\n    category = new_list[i][6:new_list[i].find(\"+§+\")]\n    category = category.replace(\"_\", \" \")\n\n    cat_with_index.append(category)\n    char_with_index.append(character)\n\n#print(cat_with_index[-2] + \" \" + char_with_index[-2])\n#print(cat_with_index[-1] + \" \" + char_with_index[-1])\n#print(len(char_with_index))",
   "outputs": [],
   "execution_count": null
  },
  {
   "cell_type": "markdown",
   "source": "#### Add the series role as a column to the DataFrame object:",
   "metadata": {
    "tags": [],
    "cell_id": "00021-5fadac7c-a7c9-4db4-8063-c2d3e3ebe18f",
    "deepnote_cell_type": "markdown"
   }
  },
  {
   "cell_type": "code",
   "metadata": {
    "cell_id": "00018-07331cae-da14-401c-959a-774e00f0200e",
    "deepnote_to_be_reexecuted": false,
    "execution_millis": 4215101,
    "execution_start": 1638965991476,
    "source_hash": "de67569",
    "tags": [],
    "deepnote_cell_type": "code"
   },
   "source": "#The column for the attribute is created. \ndf_final[\"Attr\"] = \"\"",
   "outputs": [],
   "execution_count": null
  },
  {
   "cell_type": "code",
   "metadata": {
    "cell_id": "00071-19f8cc83-7797-40ca-8feb-127d8eee28cc",
    "deepnote_output_heights": [
     396.3999938964844
    ],
    "deepnote_to_be_reexecuted": false,
    "execution_millis": 11,
    "execution_start": 1638965992306,
    "source_hash": "fa2dfb32",
    "tags": [],
    "deepnote_cell_type": "code"
   },
   "source": "role_series_list = []\n#The character name is matched between the dataframe and the final list, \n#from above. The index is extracted, and that same index is utilised to\n#extract the category from another list. \nfor name in df_final['Name']:\n    try:\n        idx = char_with_index.index(name)\n        category = cat_with_index[idx]\n        df_idx = df_final[df_final['Name'] == name].index[0]\n        df_final.loc[df_idx, 'Attr'] = category\n        #add category to the name of df_final index and column called \"Attr\"\n    except ValueError as e:\n        pass\n",
   "outputs": [],
   "execution_count": null
  },
  {
   "cell_type": "markdown",
   "source": "#### Handle the exception names in the initial DataFrame object:",
   "metadata": {
    "tags": [],
    "cell_id": "00025-9035fed0-e289-48e8-bce5-5504c882ea0c",
    "deepnote_cell_type": "markdown"
   }
  },
  {
   "cell_type": "code",
   "metadata": {
    "cell_id": "00011-ab2b4ce2-0e07-4d5e-8c79-f2f90910ab80",
    "deepnote_to_be_reexecuted": false,
    "execution_millis": 16,
    "execution_start": 1638965992329,
    "source_hash": "2f735de7",
    "tags": [],
    "deepnote_cell_type": "code"
   },
   "source": "# handle the exception names\nreplacement_mapping_dict = {\n    \"Red\": \"Red_McArthur\",\n    \"Kelly\": 'Kelly_(\"Rainforest_Schmainforest\")',\n    'Emily': 'Emily_Marx',\n    \"Mrs._Biggle\": \"Harriet_Biggle\",\n    \"Jenny_(kindergartener)\": \"Jenny_(Kindergartner)\",\n    \"Dougie_O\\\\\\\\\\\\'Connell\": \"Dougie_O%27Connell\",\n    r\"Sinéad_O\\'Connor\": \"Sin%C3%A9ad_O%27Connor\",\n    \"Señor_Lopez\" : \"Se%C3%B1or_Lopez\",\n    \"Yo_Gabba_Gabba#Foofa\":\"Yo_Gabba_Gabba!\",\n    \"Yo_Gabba_Gabba#Muno\":\"Yo_Gabba_Gabba!\",\n    \"Yo_Gabba_Gabba#Brobee\":\"Yo_Gabba_Gabba!\",\n    \"Yo_Gabba_Gabba#Toodee\":\"Yo_Gabba_Gabba!\",\n    \"Yo_Gabba_Gabba#Plex\":\"Yo_Gabba_Gabba!\",\n    'Michael_(\"Crème_Fraiche\")' : \"Michael_(%22Cr%C3%A8me_Fraiche%22)\",\n    \"A_34-Year-Old_Asian_Man_Who_Looks_Strikingly_Similar_to_Ricardo_Montalbán\":\"A_34-Year-Old_Asian_Man_Who_Looks_Strikingly_Similar_to_Ricardo_Montalb%C3%A1n\",\n    \"Yo_Gabba_Gabba#Plex\":\"Yo_Gabba_Gabba!\",\n    \"##\":\"Yo_Gabba_Gabba!\",\n    \"Luiz_Inácio_Lula_da_Silva\":\"Luiz_In%C3%A1cio_Lula_da_Silva\",\n    r\"Sinéad_O'Connor\":\"Sin%C3%A9ad_O%27Connor\",\n    \"Felipe_Calderón\":\"Felipe_Calder%C3%B3n\",\n    \"JonBenét_Ramsey\":\"JonBen%C3%A9t_Ramsey\", \n    'Martha_and_Stephen_Thompson' : 'Stephen_and_Martha_Thompson'\n\n}\n\ndf_final = df_final[df_final.Name != 'Jerome_%22Chef%22_McElroy#Darth_Chef']\n\ndf_final = df_final.drop_duplicates(subset=['Name'])\ndf_final[\"Name\"] = df_final[\"Name\"].replace(replacement_mapping_dict)\n\ndf_final = df_final.reset_index(drop=True)",
   "outputs": [],
   "execution_count": null
  },
  {
   "cell_type": "markdown",
   "source": "## API for each South Park Character:",
   "metadata": {
    "cell_id": "00005-721f89fc-b7dc-4481-85f9-4283bf570063",
    "tags": [],
    "deepnote_cell_type": "markdown"
   }
  },
  {
   "cell_type": "markdown",
   "source": "### Taking care of the SP characters which pages have been redirected\n- some character pages have been re-directed, but one can find out which by checking the text content of the json extracts\n- as running this code takes a long time, **the block which calls the method is commented out**\n- the list obtained: list_redirected_characters_new was used in order to replace some names the in DataFrame object df_final",
   "metadata": {
    "cell_id": "00053-113b7df6-46d5-4959-ab25-9037d77250cc",
    "tags": [],
    "deepnote_cell_type": "markdown"
   }
  },
  {
   "cell_type": "code",
   "metadata": {
    "cell_id": "00053-0f21f315-be88-44cf-b549-4b39b2db3be5",
    "deepnote_to_be_reexecuted": false,
    "execution_millis": 3,
    "execution_start": 1638965992360,
    "source_hash": "e35b5228",
    "tags": [],
    "deepnote_cell_type": "code"
   },
   "source": "\ndef GiveRedirectName(name_character):\n    ''' \n    GiveRedirectName give the actual name of the character where there is a redirected link\n    Args\n        name_character: (str) name of the character\n    Returns\n        name_character_redirected: (str) redirect name of the character\n    '''\n    import urllib\n    import json\n    from urllib.parse import quote\n    import urllib.request\n    import re\n\n    baseURL = \"https://southpark.fandom.com/api.php?\"\n    titles = \"titles=\" + name_character \n    action = action = \"action=query\"\n    dataformat = \"format=json\"\n    content = \"prop=revisions&rvprop=content&rvslots=*\"\n\n    query = \"{}{}&{}&{}&{}\".format(baseURL, action, content, titles, dataformat)\n    #print(query)\n    #import the text\n    response = urllib.request.urlopen(query)\n    source = response.read()\n    text = data.decode(\"utf-8\")\n\n    tojson = json.loads(text)\n\n    character_data = json.loads(source)\n\n    # extract the right text:\n    dict_vals = character_data['query']['pages'].keys()\n\n    page_id = list(dict_vals)[0]\n    if 'revisions' in character_data['query']['pages'][page_id].keys():\n        character_data_content = character_data['query']['pages'][page_id]['revisions'][0]['slots']['main']['*']\n        \n    else:\n        character_data_content = character_data['query']['pages'][page_id]\n\n    #handle the cases where there is a re-direct\n    if '#REDIRECT' in character_data_content:\n        pattern = r\"\\[\\[([^:]*?)\\]\\]\"\n        name_proper = re.findall(pattern, character_data_content)[0]\n        name_character_redirected = name_proper.replace(' ','_')\n\n    \n        return name_character_redirected\n    \n",
   "outputs": [],
   "execution_count": null
  },
  {
   "cell_type": "code",
   "metadata": {
    "cell_id": "00053-41dd8813-8ee5-4c76-ac6e-87572f18a126",
    "deepnote_output_heights": [
     38
    ],
    "deepnote_to_be_reexecuted": false,
    "execution_millis": 3,
    "execution_start": 1638965992372,
    "source_hash": "6afe2c42",
    "tags": [],
    "deepnote_cell_type": "code"
   },
   "source": "# iterate thorugh the name of the characters using df_final - obtain a list of the characters' redirects\n# this part takes a long time so it is commented out\n''''\nlist_redirected_characters_old = []\nlist_redirected_characters_new = []\n# iterate through the list of characters of df_final['Name'] and find out the redirects\nfor name in list(df_final['Name']):\n    name_character_redirected = GiveRedirectName(name)\n    if name_character_redirected is not None:\n        list_redirected_characters_old.append(name)\n        # append the return of GiveRedirectName function, which is the new character name\n        list_redirected_characters_new.append(name_character_redirected)\n\nprint(\"List of characters redirected: \", list_redirected_characters_old)\nprint(\"List of the characters' redirect names: \", list_redirected_characters_new)\n'''",
   "outputs": [
    {
     "output_type": "execute_result",
     "execution_count": 19,
     "data": {
      "text/plain": "'\\'\\nlist_redirected_characters_old = []\\nlist_redirected_characters_new = []\\n# iterate through the list of characters of df_final[\\'Name\\'] and find out the redirects\\nfor name in list(df_final[\\'Name\\']):\\n    name_character_redirected = GiveRedirectName(name)\\n    if name_character_redirected is not None:\\n        list_redirected_characters_old.append(name)\\n        # append the return of GiveRedirectName function, which is the new character name\\n        list_redirected_characters_new.append(name_character_redirected)\\n\\nprint(\"List of characters redirected: \", list_redirected_characters_old)\\nprint(\"List of the characters\\' redirect names: \", list_redirected_characters_new)\\n'"
     },
     "metadata": {}
    }
   ],
   "execution_count": null
  },
  {
   "cell_type": "code",
   "metadata": {
    "cell_id": "00011-e33c1dbc-0e35-446b-abbe-927803100557",
    "deepnote_to_be_reexecuted": false,
    "execution_millis": 1,
    "execution_start": 1638965992423,
    "source_hash": "4594ccd5",
    "tags": [],
    "deepnote_cell_type": "code"
   },
   "source": "#taking care of the redirect characters \n     # -- obtained from  the code cell above: 'list_redirected_characters_old' and 'list_redirected_characters_new'\nreplacement_mapping_dict = {\n    'Vegan_boy' : 'Vegan_Boy',\n    'Slanty' : 'Boy_with_Olive_Shirt_and_Black_Pants',\n    'The_Middle_Park_Cowboys' : 'Michael,_Kurt,_Bill,_and_Dave',\n    'Darth_Chef' : 'Jerome_%22Chef%22_McElroy#Darth_Chef',\n    'William_Connelly' :  'William_P._Connelly',\n    'The_Yanagopa_Tribe' : 'Yanagopa_Tribe',\n    'Boy_with_Blond_Hair_and_Blue_Shirt' : 'Billy_Martin',\n    'Firkle' : 'Firkle_Smith',\n    'Canadian_Minister_of_Movies' : 'Canadian_Minister_of_Streaming',\n    'Mike' :   'Mike_Cooper',\n    'Pete' : 'Pete_Thelman_(Goth)',\n    'Cupid_Me' :  'Cupid_Cartman',\n    'Sony_President' : 'The_Sony_President',\n    'Pocket' : 'Herbert_Pocket',\n    'Isayah_Zordon' : 'Isiah_Jordan',\n    '911_operator' :   '911_Operator',\n    'Budd_Stotch' : 'Uncle_Stotch',\n    '911_Truth_webmaster' : '911_Truth_Webmaster',\n    'Douchebag' : 'The_New_Kid',\n    'Charlie_Manson' : 'Charles_Manson',\n    'Jerome_Chef' : 'Jerome_%22Chef%22_McElroy',\n    'Jerome_%22Chef%22_McElroy#Darth_Chef' : 'Jerome_%22Chef%22_McElroy'\n\n\n    }\n\ndf_final[\"Name\"] = df_final[\"Name\"].replace(replacement_mapping_dict)\ndf_final = df_final.drop_duplicates(subset=['Name'])\ndf_final = df_final.reset_index(drop=True)",
   "outputs": [],
   "execution_count": null
  },
  {
   "cell_type": "markdown",
   "source": "# Import the TXT files \n- using the APIs of each SP character\n- the json dictionary content which is retireved from an API contains a lot of irrelevant text\n- the wiki text content for each character is extracted based on the relevant content key\n- the files need to be retrieved only once - thus the cell calling the main method (DownloadPagesTXT(name_character)) has been commented out",
   "metadata": {
    "cell_id": "00043-8da83379-6c2e-4f69-bd5f-d66171bd5559",
    "tags": [],
    "deepnote_cell_type": "markdown"
   }
  },
  {
   "cell_type": "code",
   "metadata": {
    "cell_id": "00043-2a4f37e4-f04f-4712-ad08-7929e22c0343",
    "deepnote_to_be_reexecuted": false,
    "execution_millis": 0,
    "execution_start": 1638965992424,
    "source_hash": "45589d8f",
    "tags": [],
    "deepnote_cell_type": "code"
   },
   "source": "# download the wiki txt files\n\ndef DownloadPagesTXT(name_character):\n    \"\"\"\n    DownloadPagesTXT gets the relevant text from a json content according to the name_character API \n    Input:\n    :name_character: (str) API readable name of the given Sout Park character\n\n    Return:\n    :None: the function will save the text content as a txt file in Character_txt_files\n    \"\"\" \n    import urllib\n    import json\n    from urllib.parse import quote\n    import urllib.request\n    import re\n\n    baseURL = \"https://southpark.fandom.com/api.php?\"\n    titles = \"titles=\" + name_character \n    action = action = \"action=query\"\n    dataformat = \"format=json\"\n    content = \"prop=revisions&rvprop=content&rvslots=*\"\n\n    query = \"{}{}&{}&{}&{}\".format(baseURL, action, content, titles, dataformat)\n    #print(query)\n    #import the text\n    response = urllib.request.urlopen(query)\n    source = response.read()\n    text = data.decode(\"utf-8\")\n\n    tojson = json.loads(text)\n    character_data = json.loads(source)\n\n    # extract the right text:\n    dict_vals = character_data['query']['pages'].keys()\n\n    \n    page_id = list(dict_vals)[0]\n    if 'revisions' in character_data['query']['pages'][page_id].keys():\n        character_data_content = character_data['query']['pages'][page_id]['revisions'][0]['slots']['main']['*']\n        \n    else:\n        character_data_content = character_data['query']['pages'][page_id]\n\n    if name_character == 'Charlie/Marcus_Andrews_and_his_Superior_Officer':\n        name_character = 'CharlieMarcus_Andrews_and_his_Superior_Officer'\n    #save as text file\n    p = \"./Characters_txt_files/\" + name_character + '.txt' \n    \n    with open (p,\"w\", encoding=\"utf-8\") as f:\n        json.dump(character_data_content,f,ensure_ascii=False)\n",
   "outputs": [],
   "execution_count": null
  },
  {
   "cell_type": "code",
   "metadata": {
    "tags": [],
    "cell_id": "00032-ca54992f-53dd-4718-90d8-1ffb052a1982",
    "deepnote_to_be_reexecuted": false,
    "source_hash": "4dd2205d",
    "execution_start": 1638965992425,
    "execution_millis": 1,
    "deepnote_cell_type": "code"
   },
   "source": "df_final = df_final[df_final.Name != 'Jerome_%22Chef%22_McElroy#Darth_Chef']",
   "outputs": [],
   "execution_count": null
  },
  {
   "cell_type": "code",
   "metadata": {
    "cell_id": "00048-be0f99e9-c57b-48f9-9a5b-eb1635ba5a44",
    "deepnote_output_heights": [
     null,
     424.484375
    ],
    "deepnote_to_be_reexecuted": false,
    "execution_millis": 220682,
    "execution_start": 1638965992479,
    "source_hash": "7844e781",
    "tags": [],
    "deepnote_cell_type": "code"
   },
   "source": "#download a text file for all characters in South Park Series\n#already implemented so the code will be commented out \n\nfrom tqdm import tqdm\nlist_characters_df = list(df_final['Name'])\n\ni = 0\nallchars = len(list_characters_df)\nprint(\"Total number of characters: \", allchars)\nfor name in tqdm(df_final.itertuples()):\n    DownloadPagesTXT(name.Name)\n    i += 1",
   "outputs": [
    {
     "name": "stdout",
     "text": "Total number of characters:  1870\n1870it [03:40,  8.47it/s]\n",
     "output_type": "stream"
    }
   ],
   "execution_count": null
  },
  {
   "cell_type": "markdown",
   "source": "# Compile a final DataFrame object\n- finnish compilation of the DataFrame object which includes the South Park Characters and their attributes\n- add more attributes based on the txt file for each SP character: **gender**, **race** and **episode appearance**",
   "metadata": {
    "cell_id": "00031-e97312ea-9509-4c53-9533-0633bf3ded21",
    "deepnote_cell_type": "markdown"
   }
  },
  {
   "cell_type": "code",
   "metadata": {
    "cell_id": "00016-6e2efc44-df52-436f-abcc-d6f0e80798b3",
    "deepnote_to_be_reexecuted": false,
    "execution_millis": 0,
    "execution_start": 1638966213160,
    "source_hash": "64d5cf9c",
    "tags": [],
    "deepnote_cell_type": "code"
   },
   "source": "def giveRaceGenderAppearance(character_name):\n    \"\"\"\n    giveRaceGenderAppearance retrieves the gender, race and episode appearance from each character txt file \n    Input:\n    :name_character: (str) readable name of the given Sout Park character - txt file must have the same name\n\n    Return:\n    :(gender, race, ep_appearance): str triple containing the gender, race and episode appearance\n    \"\"\" \n    # there is an exception for these characters\n    if character_name == 'Charlie/Marcus_Andrews_and_his_Superior_Officer':\n        character_name = 'CharlieMarcus_Andrews_and_his_Superior_Officer'\n    if character_name == 'Jerome_%22Chef%22_McElroy#Darth_Chef':\n        character_name = 'Jerome_%22Chef%22_McElroy'\n\n    f = open('./Characters_txt_files/' + character_name + '.txt')\n    text= f.read()\n    #print(text)\n    pattern_gender = r'gender = ([^:]*?)\\\\'\n    pattern_race = r'race = ([^:]*?)\\\\'\n    pattern_ep_appearance1 = r'appearance \\= \\\\\\\"\\[\\[([^:]*?)\\]\\]'\n    pattern_ep_appearance2 = r'appearance = \\'\\'\\[\\[(.*?)\\]\\]' \n\n    gender = re.findall(pattern_gender, text)\n    race = re.findall(pattern_race, text)\n    ep_appearance = re.findall(pattern_ep_appearance1, text)\n    if len(ep_appearance) == 0:\n        ep_appearance = re.findall(pattern_ep_appearance2, text)\n    \n    #handling returns if nothing is found\n    if len(gender) == 0:\n        gender = ['Unknown']\n    if 'Male' in gender[0]:\n        genderr = ['Male']\n    elif 'Female' in gender[0]:\n        genderr = ['Female']\n    elif 'Male' in gender[0] and 'Female' in gender[0]:\n        genderr = ['Binary']\n    else:\n        genderr = ['Unknown']\n        \n    if len(race) == 0:\n        race = ['Unknown']\n    if len(ep_appearance) == 0:\n        ep_appearance = ['Unknown']\n\n    return genderr[0], race[0], ep_appearance[0]\n",
   "outputs": [],
   "execution_count": null
  },
  {
   "cell_type": "markdown",
   "source": "**Note**: The Wiki Pages get constantly updated so this cell might give an error if there is a new character introduced. If so, then remove the character from the Data Frame.",
   "metadata": {
    "cell_id": "00033-25a3eab5-5e40-488c-89dc-fb99de8c20e1",
    "deepnote_cell_type": "markdown"
   }
  },
  {
   "cell_type": "code",
   "metadata": {
    "cell_id": "00018-8c75638a-61f3-47fc-8166-dc1f929d3f1c",
    "deepnote_output_heights": [
     59.5625
    ],
    "deepnote_to_be_reexecuted": false,
    "execution_millis": 3862,
    "execution_start": 1638966213161,
    "source_hash": "b000e7b9",
    "tags": [],
    "deepnote_cell_type": "code"
   },
   "source": "# iterate through the dataframe df_final and add the attributes:\ngender_list = []\nrace_list = []\nappearance_list = []\n\n# remove new characters newly introduced in the Wiki pages:\n#df_final = df_final[df_final.Name != 'Jenny_(Kindergartner)']\n#df_final = df_final[df_final.Name != 'Mayor_McDaniels']\n#df_final = df_final[df_final.Name != 'Moisha_Cartman']\n#df_final = df_final[df_final.Name != 'Yentl_Cartman']\n#df_final = df_final[df_final.Name != 'Alex']\n#df_final = df_final[df_final.Name != 'Rainforest_Schmainforest']\n\nfor name in list(df_final['Name']):\n    # handle subfolders\n    #name = name.replace('\\\\','/')\n\n    gender, race, appearance = giveRaceGenderAppearance(name)\n    gender_list.append(gender)\n    race_list.append(race)\n    appearance_list.append(appearance)\n\ndf_final['Gender'] = gender_list\ndf_final['Race'] = race_list\ndf_final['Appearance'] = appearance_list\n\ndf_final['Attr'].replace({'':'Uncategorized'},inplace=True)",
   "outputs": [],
   "execution_count": null
  },
  {
   "cell_type": "code",
   "metadata": {
    "cell_id": "00019-4d333d81-97bb-4bc1-b0fb-d7d3cb9d1c6f",
    "deepnote_to_be_reexecuted": false,
    "execution_millis": 86,
    "execution_start": 1638966217040,
    "source_hash": "5d0cd32d",
    "tags": [],
    "deepnote_output_heights": [
     386.515625
    ],
    "deepnote_cell_type": "code"
   },
   "source": "df_final",
   "outputs": [
    {
     "output_type": "execute_result",
     "execution_count": 26,
     "data": {
      "application/vnd.deepnote.dataframe.v2+json": {
       "row_count": 1870,
       "column_count": 7,
       "columns": [
        {
         "name": "Name",
         "dtype": "object",
         "stats": {
          "unique_count": 1870,
          "nan_count": 0,
          "categories": [
           {
            "name": "Romper_Stomper",
            "count": 1
           },
           {
            "name": "Francis",
            "count": 1
           },
           {
            "name": "1868 others",
            "count": 1868
           }
          ]
         }
        },
        {
         "name": "Role",
         "dtype": "object",
         "stats": {
          "unique_count": 7,
          "nan_count": 0,
          "categories": [
           {
            "name": "Not in the game",
            "count": 1739
           },
           {
            "name": "Other characters",
            "count": 70
           },
           {
            "name": "5 others",
            "count": 61
           }
          ]
         }
        },
        {
         "name": "Real_Name",
         "dtype": "object",
         "stats": {
          "unique_count": 1870,
          "nan_count": 0,
          "categories": [
           {
            "name": "Romper Stomper",
            "count": 1
           },
           {
            "name": "Francis",
            "count": 1
           },
           {
            "name": "1868 others",
            "count": 1868
           }
          ]
         }
        },
        {
         "name": "Attr",
         "dtype": "object",
         "stats": {
          "unique_count": 20,
          "nan_count": 0,
          "categories": [
           {
            "name": "Uncategorized",
            "count": 1052
           },
           {
            "name": "Monsters",
            "count": 245
           },
           {
            "name": "18 others",
            "count": 573
           }
          ]
         }
        },
        {
         "name": "Gender",
         "dtype": "object",
         "stats": {
          "unique_count": 3,
          "nan_count": 0,
          "categories": [
           {
            "name": "Male",
            "count": 1279
           },
           {
            "name": "Female",
            "count": 390
           },
           {
            "name": "Unknown",
            "count": 201
           }
          ]
         }
        },
        {
         "name": "Race",
         "dtype": "object",
         "stats": {
          "unique_count": 136,
          "nan_count": 0,
          "categories": [
           {
            "name": "Unknown",
            "count": 980
           },
           {
            "name": "Caucasian",
            "count": 605
           },
           {
            "name": "134 others",
            "count": 285
           }
          ]
         }
        },
        {
         "name": "Appearance",
         "dtype": "object",
         "stats": {
          "unique_count": 301,
          "nan_count": 0,
          "categories": [
           {
            "name": "Unknown",
            "count": 278
           },
           {
            "name": "South Park: The Stick of Truth",
            "count": 26
           },
           {
            "name": "299 others",
            "count": 1566
           }
          ]
         }
        },
        {
         "name": "_deepnote_index_column",
         "dtype": "int64"
        }
       ],
       "rows_top": [
        {
         "Name": "Romper_Stomper",
         "Role": "Other characters",
         "Real_Name": "Romper Stomper",
         "Attr": "Uncategorized",
         "Gender": "Male",
         "Race": "Unknown",
         "Appearance": "Cartman's Silly Hate Crime 2000",
         "_deepnote_index_column": 0
        },
        {
         "Name": "Francis",
         "Role": "Other characters",
         "Real_Name": "Francis",
         "Attr": "4th Graders",
         "Gender": "Male",
         "Race": "Caucasian",
         "Appearance": "Tom's Rhinoplasty",
         "_deepnote_index_column": 1
        },
        {
         "Name": "Thomas_Tucker",
         "Role": "Other characters",
         "Real_Name": "Thomas Tucker",
         "Attr": "Uncategorized",
         "Gender": "Male",
         "Race": "Unknown",
         "Appearance": "Tweek vs. Craig",
         "_deepnote_index_column": 2
        },
        {
         "Name": "Peter_Mullen",
         "Role": "Other characters",
         "Real_Name": "Peter Mullen",
         "Attr": "4th Graders",
         "Gender": "Male",
         "Race": "Unknown",
         "Appearance": "Mystery of the Urinal Deuce",
         "_deepnote_index_column": 3
        },
        {
         "Name": "Filmore_Anderson",
         "Role": "Other characters",
         "Real_Name": "Filmore Anderson",
         "Attr": "Kindergartners",
         "Gender": "Male",
         "Race": "Caucasian",
         "Appearance": "Trapper Keeper",
         "_deepnote_index_column": 4
        },
        {
         "Name": "Tom_Thompson",
         "Role": "Other characters",
         "Real_Name": "Tom Thompson",
         "Attr": "Uncategorized",
         "Gender": "Male",
         "Race": "Unknown",
         "Appearance": "Britney's New Look",
         "_deepnote_index_column": 5
        },
        {
         "Name": "Sally_Bands",
         "Role": "Other characters",
         "Real_Name": "Sally Bands",
         "Attr": "Kindergartners",
         "Gender": "Female",
         "Race": "Caucasian",
         "Appearance": "Trapper Keeper",
         "_deepnote_index_column": 6
        },
        {
         "Name": "Principal_Victoria",
         "Role": "Other characters",
         "Real_Name": "Principal Victoria",
         "Attr": "School Faculty",
         "Gender": "Female",
         "Race": "Unknown",
         "Appearance": "Pinkeye",
         "_deepnote_index_column": 7
        },
        {
         "Name": "Cornwallis_Hankey",
         "Role": "Other characters",
         "Real_Name": "Cornwallis Hankey",
         "Attr": "Uncategorized",
         "Gender": "Male",
         "Race": "Unknown",
         "Appearance": "A Very Crappy Christmas",
         "_deepnote_index_column": 8
        },
        {
         "Name": "Kelly_P._Gardner",
         "Role": "Other characters",
         "Real_Name": "Kelly P. Gardner",
         "Attr": "4th Graders",
         "Gender": "Female",
         "Race": "Caucasian",
         "Appearance": "Whale Whores",
         "_deepnote_index_column": 9
        },
        {
         "Name": "Jenny_(Kindergartner)",
         "Role": "Other characters",
         "Real_Name": "Jenny (kindergartener)",
         "Attr": "Uncategorized",
         "Gender": "Female",
         "Race": "Unknown",
         "Appearance": "Trapper Keeper",
         "_deepnote_index_column": 10
        },
        {
         "Name": "Kelly_(\"Rainforest_Schmainforest\")",
         "Role": "Other characters",
         "Real_Name": "Kelly",
         "Attr": "Uncategorized",
         "Gender": "Female",
         "Race": "Unknown",
         "Appearance": "Rainforest Shmainforest",
         "_deepnote_index_column": 11
        },
        {
         "Name": "Roger_Donovan",
         "Role": "Other characters",
         "Real_Name": "Roger Donovan",
         "Attr": "Uncategorized",
         "Gender": "Male",
         "Race": "Unknown",
         "Appearance": "Red Hot Catholic Love",
         "_deepnote_index_column": 12
        },
        {
         "Name": "Mayor_McDaniels",
         "Role": "Other characters",
         "Real_Name": "Mayor McDaniels",
         "Attr": "Uncategorized",
         "Gender": "Female",
         "Race": "Unknown",
         "Appearance": "Weight Gain 4000",
         "_deepnote_index_column": 13
        },
        {
         "Name": "Dougie_O%27Connell",
         "Role": "Other characters",
         "Real_Name": "Dougie O\\\\\\'Connell",
         "Attr": "Uncategorized",
         "Gender": "Male",
         "Race": "Unknown",
         "Appearance": "Two Guys Naked in a Hot Tub",
         "_deepnote_index_column": 14
        },
        {
         "Name": "Rick",
         "Role": "Other characters",
         "Real_Name": "Rick",
         "Attr": "Uncategorized",
         "Gender": "Male",
         "Race": "Unknown",
         "Appearance": "South Park: Bigger, Longer & Uncut",
         "_deepnote_index_column": 15
        },
        {
         "Name": "Autumn_Hankey",
         "Role": "Other characters",
         "Real_Name": "Autumn Hankey",
         "Attr": "Uncategorized",
         "Gender": "Female",
         "Race": "Unknown",
         "Appearance": "A Very Crappy Christmas",
         "_deepnote_index_column": 16
        },
        {
         "Name": "Harrison_Yates",
         "Role": "Other characters",
         "Real_Name": "Harrison Yates",
         "Attr": "Uncategorized",
         "Gender": "Male",
         "Race": "Caucasian",
         "Appearance": "Christian Rock Hard",
         "_deepnote_index_column": 17
        },
        {
         "Name": "Kelly_Rutherford-Menskin",
         "Role": "Other characters",
         "Real_Name": "Kelly Rutherford-Menskin",
         "Attr": "4th Graders",
         "Gender": "Female",
         "Race": "Unknown",
         "Appearance": "Quest for Ratings",
         "_deepnote_index_column": 18
        },
        {
         "Name": "Mr._Hat",
         "Role": "Other characters",
         "Real_Name": "Mr. Hat",
         "Attr": "Monsters",
         "Gender": "Male",
         "Race": "Unknown",
         "Appearance": "Cartman Gets an Anal Probe",
         "_deepnote_index_column": 19
        },
        {
         "Name": "Woodland_Critters",
         "Role": "Other characters",
         "Real_Name": "Woodland Critters",
         "Attr": "Monsters",
         "Gender": "Male",
         "Race": "Unknown",
         "Appearance": "Unknown",
         "_deepnote_index_column": 20
        },
        {
         "Name": "Richard_Adler",
         "Role": "Other characters",
         "Real_Name": "Richard Adler",
         "Attr": "School Faculty",
         "Gender": "Male",
         "Race": "Caucasian",
         "Appearance": "Tweek vs. Craig",
         "_deepnote_index_column": 21
        },
        {
         "Name": "Officer_Barbrady",
         "Role": "Other characters",
         "Real_Name": "Officer Barbrady",
         "Attr": "Uncategorized",
         "Gender": "Male",
         "Race": "Unknown",
         "Appearance": "Cartman Gets an Anal Probe",
         "_deepnote_index_column": 22
        },
        {
         "Name": "Bartender",
         "Role": "Other characters",
         "Real_Name": "Bartender",
         "Attr": "Uncategorized",
         "Gender": "Male",
         "Race": "Unknown",
         "Appearance": "Big Gay Al's Big Gay Boat Ride",
         "_deepnote_index_column": 23
        },
        {
         "Name": "Damien_Thorn",
         "Role": "Other characters",
         "Real_Name": "Damien Thorn",
         "Attr": "4th Graders",
         "Gender": "Male",
         "Race": "Demon",
         "Appearance": "Damien",
         "_deepnote_index_column": 24
        },
        {
         "Name": "Harriet_Biggle",
         "Role": "Other characters",
         "Real_Name": "Mrs. Biggle",
         "Attr": "Uncategorized",
         "Gender": "Female",
         "Race": "Caucasian",
         "Appearance": "Raisins",
         "_deepnote_index_column": 25
        },
        {
         "Name": "Prince_and_Princess_of_Canada",
         "Role": "Other characters",
         "Real_Name": "Prince and Princess of Canada",
         "Attr": "Uncategorized",
         "Gender": "Unknown",
         "Race": "Caucasian",
         "Appearance": "Royal Pudding",
         "_deepnote_index_column": 26
        },
        {
         "Name": "Pete_Melman",
         "Role": "Other characters",
         "Real_Name": "Pete Melman",
         "Attr": "4th Graders",
         "Gender": "Male",
         "Race": "Unknown",
         "Appearance": "Dances with Smurfs",
         "_deepnote_index_column": 27
        },
        {
         "Name": "Karen_McCormick",
         "Role": "Other characters",
         "Real_Name": "Karen McCormick",
         "Attr": "1st-3rd Graders",
         "Gender": "Female",
         "Race": "Unknown",
         "Appearance": "Best Friends Forever",
         "_deepnote_index_column": 28
        },
        {
         "Name": "Ned_Gerblanski",
         "Role": "Other characters",
         "Real_Name": "Ned Gerblanski",
         "Attr": "Uncategorized",
         "Gender": "Male",
         "Race": "Unknown",
         "Appearance": "Volcano",
         "_deepnote_index_column": 29
        },
        {
         "Name": "Lemmiwinks",
         "Role": "Other characters",
         "Real_Name": "Lemmiwinks",
         "Attr": "Animals",
         "Gender": "Male",
         "Race": "Gerbil",
         "Appearance": "The Death Camp of Tolerance",
         "_deepnote_index_column": 30
        },
        {
         "Name": "Jessie",
         "Role": "Other characters",
         "Real_Name": "Jessie",
         "Attr": "4th Graders",
         "Gender": "Female",
         "Race": "Unknown",
         "Appearance": "Stupid Spoiled Whore Video Playset",
         "_deepnote_index_column": 31
        },
        {
         "Name": "Flora_Larsen",
         "Role": "Other characters",
         "Real_Name": "Flora Larsen",
         "Attr": "Kindergartners",
         "Gender": "Female",
         "Race": "Unknown",
         "Appearance": "Trapper Keeper",
         "_deepnote_index_column": 32
        },
        {
         "Name": "Sheila_Broflovski",
         "Role": "Other characters",
         "Real_Name": "Sheila Broflovski",
         "Attr": "Uncategorized",
         "Gender": "Female",
         "Race": "Unknown",
         "Appearance": "Death",
         "_deepnote_index_column": 33
        },
        {
         "Name": "Bill_Allen",
         "Role": "Other characters",
         "Real_Name": "Bill Allen",
         "Attr": "4th Graders",
         "Gender": "Male",
         "Race": "Unknown",
         "Appearance": "Big Gay Al's Big Gay Boat Ride",
         "_deepnote_index_column": 34
        },
        {
         "Name": "Douglas",
         "Role": "Other characters",
         "Real_Name": "Douglas",
         "Attr": "4th Graders",
         "Gender": "Male",
         "Race": "Caucasian",
         "Appearance": "Breast Cancer Show Ever",
         "_deepnote_index_column": 35
        },
        {
         "Name": "Herbert_Garrison",
         "Role": "Other characters",
         "Real_Name": "Herbert Garrison",
         "Attr": "School Faculty",
         "Gender": "Male",
         "Race": "Caucasian",
         "Appearance": "The Unaired Pilot",
         "_deepnote_index_column": 36
        },
        {
         "Name": "Carol_McCormick",
         "Role": "Other characters",
         "Real_Name": "Carol McCormick",
         "Attr": "Uncategorized",
         "Gender": "Female",
         "Race": "Caucasian",
         "Appearance": "Starvin' Marvin",
         "_deepnote_index_column": 37
        },
        {
         "Name": "Big_Gay_Al",
         "Role": "Other characters",
         "Real_Name": "Big Gay Al",
         "Attr": "Uncategorized",
         "Gender": "Male",
         "Race": "Unknown",
         "Appearance": "Big Gay Al's Big Gay Boat Ride",
         "_deepnote_index_column": 38
        },
        {
         "Name": "Liane_Cartman",
         "Role": "Other characters",
         "Real_Name": "Liane Cartman",
         "Attr": "Uncategorized",
         "Gender": "Female",
         "Race": "Unknown",
         "Appearance": "Cartman Gets an Anal Probe",
         "_deepnote_index_column": 39
        },
        {
         "Name": "Stuart_McCormick",
         "Role": "Other characters",
         "Real_Name": "Stuart McCormick",
         "Attr": "Uncategorized",
         "Gender": "Male",
         "Race": "Unknown",
         "Appearance": "Starvin' Marvin",
         "_deepnote_index_column": 40
        },
        {
         "Name": "Santa_Claus",
         "Role": "Other characters",
         "Real_Name": "Santa Claus",
         "Attr": "Uncategorized",
         "Gender": "Male",
         "Race": "Caucasian",
         "Appearance": "The Spirit of Christmas#Jesus vs. Frosty|The Spirit of Christmas: Jesus vs. Frosty",
         "_deepnote_index_column": 41
        },
        {
         "Name": "Polly_Prissypants",
         "Role": "Other characters",
         "Real_Name": "Polly Prissypants",
         "Attr": "Monsters",
         "Gender": "Female",
         "Race": "Unknown",
         "Appearance": "Cartman's Mom is a Dirty Slut",
         "_deepnote_index_column": 42
        },
        {
         "Name": "Frog_King",
         "Role": "Other characters",
         "Real_Name": "Frog King",
         "Attr": "Animals",
         "Gender": "Male",
         "Race": "Frog",
         "Appearance": "The Death Camp of Tolerance",
         "_deepnote_index_column": 43
        },
        {
         "Name": "Ike_Broflovski",
         "Role": "Other characters",
         "Real_Name": "Ike Broflovski",
         "Attr": "Kindergartners",
         "Gender": "Male",
         "Race": "White-Canadian",
         "Appearance": "Cartman Gets an Anal Probe",
         "_deepnote_index_column": 44
        },
        {
         "Name": "Stephen_Stotch",
         "Role": "Other characters",
         "Real_Name": "Stephen Stotch",
         "Attr": "Uncategorized",
         "Gender": "Male",
         "Race": "Caucasian",
         "Appearance": "Chickenlover",
         "_deepnote_index_column": 45
        },
        {
         "Name": "Fosse_McDonald",
         "Role": "Other characters",
         "Real_Name": "Fosse McDonald",
         "Attr": "4th Graders",
         "Gender": "Male",
         "Race": "Unknown",
         "Appearance": "Big Gay Al's Big Gay Boat Ride",
         "_deepnote_index_column": 46
        },
        {
         "Name": "Simon_Hankey",
         "Role": "Other characters",
         "Real_Name": "Simon Hankey",
         "Attr": "Uncategorized",
         "Gender": "Male",
         "Race": "Unknown",
         "Appearance": "A Very Crappy Christmas",
         "_deepnote_index_column": 47
        },
        {
         "Name": "Crab_People",
         "Role": "Other characters",
         "Real_Name": "Crab People",
         "Attr": "Monsters",
         "Gender": "Male",
         "Race": "Alien Crabs",
         "Appearance": "South Park is Gay!",
         "_deepnote_index_column": 48
        },
        {
         "Name": "Terrance_and_Phillip",
         "Role": "Other characters",
         "Real_Name": "Terrance and Phillip",
         "Attr": "Fictional Celebrities",
         "Gender": "Male",
         "Race": "Unknown",
         "Appearance": "Death",
         "_deepnote_index_column": 49
        },
        {
         "Name": "Gerald_Broflovski",
         "Role": "Other characters",
         "Real_Name": "Gerald Broflovski",
         "Attr": "Uncategorized",
         "Gender": "Male",
         "Race": "Caucasian",
         "Appearance": "Cartman Gets an Anal Probe",
         "_deepnote_index_column": 50
        },
        {
         "Name": "Jessica_Rodriguez",
         "Role": "Other characters",
         "Real_Name": "Jessica Rodriguez",
         "Attr": "Uncategorized",
         "Gender": "Female",
         "Race": "Latino-American",
         "Appearance": "South Park: The Stick of Truth",
         "_deepnote_index_column": 51
        },
        {
         "Name": "Randy_Marsh",
         "Role": "Other characters",
         "Real_Name": "Randy Marsh",
         "Attr": "Uncategorized",
         "Gender": "Male",
         "Race": "Unknown",
         "Appearance": "Volcano",
         "_deepnote_index_column": 52
        },
        {
         "Name": "Minister_of_Montreal",
         "Role": "Other characters",
         "Real_Name": "Minister of Montreal",
         "Attr": "Uncategorized",
         "Gender": "Male",
         "Race": "Caucasian",
         "Appearance": "South Park: The Stick of Truth",
         "_deepnote_index_column": 53
        },
        {
         "Name": "Linda_Stotch",
         "Role": "Other characters",
         "Real_Name": "Linda Stotch",
         "Attr": "Uncategorized",
         "Gender": "Female",
         "Race": "Caucasian",
         "Appearance": "The Wacky Molestation Adventure",
         "_deepnote_index_column": 54
        },
        {
         "Name": "Chinpokomon_(Brand)",
         "Role": "Other characters",
         "Real_Name": "Chinpokomon (Brand)",
         "Attr": "Uncategorized",
         "Gender": "Unknown",
         "Race": "Unknown",
         "Appearance": "Unknown",
         "_deepnote_index_column": 55
        },
        {
         "Name": "Father_Maxi",
         "Role": "Other characters",
         "Real_Name": "Father Maxi",
         "Attr": "Uncategorized",
         "Gender": "Male",
         "Race": "Caucasian",
         "Appearance": "Mr. Hankey, the Christmas Poo",
         "_deepnote_index_column": 56
        },
        {
         "Name": "Rick_the_Mountie",
         "Role": "Other characters",
         "Real_Name": "Rick the Mountie",
         "Attr": "Uncategorized",
         "Gender": "Male",
         "Race": "Canadian",
         "Appearance": "It's Christmas in Canada",
         "_deepnote_index_column": 57
        },
        {
         "Name": "Morgan_Freeman",
         "Role": "Other characters",
         "Real_Name": "Morgan Freeman",
         "Attr": "Uncategorized",
         "Gender": "Male",
         "Race": "Unknown",
         "Appearance": "The Tale of Scrotie McBoogerballs",
         "_deepnote_index_column": 58
        },
        {
         "Name": "Chris",
         "Role": "Other characters",
         "Real_Name": "Chris",
         "Attr": "Uncategorized",
         "Gender": "Male",
         "Race": "Unknown",
         "Appearance": "Do the Handicapped Go to Hell?",
         "_deepnote_index_column": 59
        },
        {
         "Name": "Midget_Wearing_a_Bikini",
         "Role": "Other characters",
         "Real_Name": "Midget Wearing a Bikini",
         "Attr": "Uncategorized",
         "Gender": "Male",
         "Race": "Unknown",
         "Appearance": "Pinkeye",
         "_deepnote_index_column": 60
        },
        {
         "Name": "Kevin_Stoley",
         "Role": "Other characters",
         "Real_Name": "Kevin Stoley",
         "Attr": "4th Graders",
         "Gender": "Male",
         "Race": "Chinese-American",
         "Appearance": "Cartman Gets an Anal Probe",
         "_deepnote_index_column": 61
        },
        {
         "Name": "Sparrow_Prince",
         "Role": "Other characters",
         "Real_Name": "Sparrow Prince",
         "Attr": "Animals",
         "Gender": "Male",
         "Race": "Sparrow",
         "Appearance": "The Death Camp of Tolerance",
         "_deepnote_index_column": 62
        },
        {
         "Name": "Catatafish",
         "Role": "Other characters",
         "Real_Name": "Catatafish",
         "Attr": "Animals",
         "Gender": "Male",
         "Race": "Catfish<br>Ghost",
         "Appearance": "The Death Camp of Tolerance",
         "_deepnote_index_column": 63
        },
        {
         "Name": "Dr._Poonlover",
         "Role": "Other characters",
         "Real_Name": "Dr. Poonlover",
         "Attr": "Uncategorized",
         "Gender": "Male",
         "Race": "Unknown",
         "Appearance": "South Park: The Stick of Truth",
         "_deepnote_index_column": 64
        },
        {
         "Name": "Skeeter",
         "Role": "Other characters",
         "Real_Name": "Skeeter",
         "Attr": "Uncategorized",
         "Gender": "Male",
         "Race": "Unknown",
         "Appearance": "Cartman's Mom is a Dirty Slut",
         "_deepnote_index_column": 65
        },
        {
         "Name": "Sparky",
         "Role": "Other characters",
         "Real_Name": "Sparky",
         "Attr": "Animals",
         "Gender": "Male",
         "Race": "Dog",
         "Appearance": "Big Gay Al's Big Gay Boat Ride",
         "_deepnote_index_column": 66
        },
        {
         "Name": "Nurse_Fran",
         "Role": "Other characters",
         "Real_Name": "Nurse Fran",
         "Attr": "Uncategorized",
         "Gender": "Female",
         "Race": "Caucasian",
         "Appearance": "Mr. Garrison's Fancy New Vagina",
         "_deepnote_index_column": 67
        },
        {
         "Name": "Amber_Hankey",
         "Role": "Other characters",
         "Real_Name": "Amber Hankey",
         "Attr": "Uncategorized",
         "Gender": "Female",
         "Race": "Unknown",
         "Appearance": "A Very Crappy Christmas",
         "_deepnote_index_column": 68
        },
        {
         "Name": "Quaid",
         "Role": "Other characters",
         "Real_Name": "Quaid",
         "Attr": "Kindergartners",
         "Gender": "Male",
         "Race": "Unknown",
         "Appearance": "Trapper Keeper",
         "_deepnote_index_column": 69
        },
        {
         "Name": "Feldspar_the_Thief",
         "Role": "Land of Zaron",
         "Real_Name": "Feldspar the Thief",
         "Attr": "Monsters",
         "Gender": "Male",
         "Race": "Unknown",
         "Appearance": "Black Friday",
         "_deepnote_index_column": 70
        }
       ],
       "rows_bottom": [
        {
         "Name": "Chris_(Dad)",
         "Role": "Not in the game",
         "Real_Name": "Chris (Dad)",
         "Attr": "Uncategorized",
         "Gender": "Male",
         "Race": "Varies",
         "Appearance": "Unknown",
         "_deepnote_index_column": 1800
        },
        {
         "Name": "Jambu",
         "Role": "Not in the game",
         "Real_Name": "Jambu",
         "Attr": "Animals",
         "Gender": "Unknown",
         "Race": "Orca Whale",
         "Appearance": "Free Willzyx",
         "_deepnote_index_column": 1801
        },
        {
         "Name": "Rosemary",
         "Role": "Not in the game",
         "Real_Name": "Rosemary",
         "Attr": "Uncategorized",
         "Gender": "Female",
         "Race": "Unknown",
         "Appearance": "Crème Fraiche",
         "_deepnote_index_column": 1802
        },
        {
         "Name": "Ms._Bronski",
         "Role": "Not in the game",
         "Real_Name": "Ms. Bronski",
         "Attr": "School Faculty",
         "Gender": "Female",
         "Race": "Caucasian",
         "Appearance": "Ass Burgers",
         "_deepnote_index_column": 1803
        },
        {
         "Name": "Horace_Sanders",
         "Role": "Not in the game",
         "Real_Name": "Horace Sanders",
         "Attr": "5th-9th Graders",
         "Gender": "Male",
         "Race": "Unknown",
         "Appearance": "Fat Camp",
         "_deepnote_index_column": 1804
        },
        {
         "Name": "Hopkins",
         "Role": "Not in the game",
         "Real_Name": "Hopkins",
         "Attr": "Uncategorized",
         "Gender": "Male",
         "Race": "Unknown",
         "Appearance": "Lil' Crime Stoppers",
         "_deepnote_index_column": 1805
        },
        {
         "Name": "Jimmy_Kimmel",
         "Role": "Not in the game",
         "Real_Name": "Jimmy Kimmel",
         "Attr": "Television‎ Celebrities",
         "Gender": "Male",
         "Race": "Caucasian",
         "Appearance": "Fishsticks",
         "_deepnote_index_column": 1806
        },
        {
         "Name": "Mark_the_Security_Guard",
         "Role": "Not in the game",
         "Real_Name": "Mark the Security Guard",
         "Attr": "Uncategorized",
         "Gender": "Male",
         "Race": "Caucasian",
         "Appearance": "Korn's Groovy Pirate Ghost Mystery",
         "_deepnote_index_column": 1807
        },
        {
         "Name": "George_Lucas",
         "Role": "Not in the game",
         "Real_Name": "George Lucas",
         "Attr": "Uncategorized",
         "Gender": "Male",
         "Race": "Caucasian",
         "Appearance": "Free Hat",
         "_deepnote_index_column": 1808
        },
        {
         "Name": "Heather_(\"Asspen\")",
         "Role": "Not in the game",
         "Real_Name": "Heather (\"Asspen\")",
         "Attr": "Uncategorized",
         "Gender": "Female",
         "Race": "Unknown",
         "Appearance": "Asspen",
         "_deepnote_index_column": 1809
        },
        {
         "Name": "Nishimura_Master",
         "Role": "Not in the game",
         "Real_Name": "Nishimura Master",
         "Attr": "Uncategorized",
         "Gender": "Unknown",
         "Race": "Japanese",
         "Appearance": "Tweek vs. Craig",
         "_deepnote_index_column": 1810
        },
        {
         "Name": "Annie_Bartlett",
         "Role": "Not in the game",
         "Real_Name": "Annie Bartlett",
         "Attr": "5th-9th Graders",
         "Gender": "Female",
         "Race": "Unknown",
         "Appearance": "The Ungroundable",
         "_deepnote_index_column": 1811
        },
        {
         "Name": "Charles_Manson",
         "Role": "Not in the game",
         "Real_Name": "Charlie Manson",
         "Attr": "Uncategorized",
         "Gender": "Male",
         "Race": "Caucasian",
         "Appearance": "Merry Christmas Charlie Manson!",
         "_deepnote_index_column": 1812
        },
        {
         "Name": "Matthew_McConaughey",
         "Role": "Not in the game",
         "Real_Name": "Matthew McConaughey",
         "Attr": "Uncategorized",
         "Gender": "Male",
         "Race": "Unknown",
         "Appearance": "Handicar",
         "_deepnote_index_column": 1813
        },
        {
         "Name": "Dr._Mehmet_Oz",
         "Role": "Not in the game",
         "Real_Name": "Dr. Mehmet Oz",
         "Attr": "Television‎ Celebrities",
         "Gender": "Male",
         "Race": "Circassian",
         "Appearance": "Butterballs",
         "_deepnote_index_column": 1814
        },
        {
         "Name": "Frances_Velman",
         "Role": "Not in the game",
         "Real_Name": "Frances Velman",
         "Attr": "Uncategorized",
         "Gender": "Female",
         "Race": "Unknown",
         "Appearance": "The Simpsons Already Did It",
         "_deepnote_index_column": 1815
        },
        {
         "Name": "Intergalactic_Police",
         "Role": "Not in the game",
         "Real_Name": "Intergalactic Police",
         "Attr": "Aliens",
         "Gender": "Male",
         "Race": "Unknown",
         "Appearance": "Pinewood Derby",
         "_deepnote_index_column": 1816
        },
        {
         "Name": "Tom_(Newsman)",
         "Role": "Not in the game",
         "Real_Name": "Tom (Newsman)",
         "Attr": "Uncategorized",
         "Gender": "Male",
         "Race": "Unknown",
         "Appearance": "Pinewood Derby",
         "_deepnote_index_column": 1817
        },
        {
         "Name": "Mike_Makowski",
         "Role": "Not in the game",
         "Real_Name": "Mike Makowski",
         "Attr": "5th-9th Graders",
         "Gender": "Male",
         "Race": "Unknown",
         "Appearance": "The Ungroundable",
         "_deepnote_index_column": 1818
        },
        {
         "Name": "Will_Barton",
         "Role": "Not in the game",
         "Real_Name": "Will Barton",
         "Attr": "Sports Celebrities",
         "Gender": "Male",
         "Race": "African-American",
         "Appearance": "Band in China",
         "_deepnote_index_column": 1819
        },
        {
         "Name": "Yukio_Hatoyama",
         "Role": "Not in the game",
         "Real_Name": "Yukio Hatoyama",
         "Attr": "Political Celebrities",
         "Gender": "Male",
         "Race": "Japanese",
         "Appearance": "Whale Whores",
         "_deepnote_index_column": 1820
        },
        {
         "Name": "Rick_and_Susan_Tyler",
         "Role": "Not in the game",
         "Real_Name": "Rick and Susan Tyler",
         "Attr": "Uncategorized",
         "Gender": "Male",
         "Race": "Unknown",
         "Appearance": "Fat Camp",
         "_deepnote_index_column": 1821
        },
        {
         "Name": "Air_Israel_Handler",
         "Role": "Not in the game",
         "Real_Name": "Air Israel Handler",
         "Attr": "Uncategorized",
         "Gender": "Male",
         "Race": "Israeli",
         "Appearance": "South ParQ Vaccination Special",
         "_deepnote_index_column": 1822
        },
        {
         "Name": "People\\'s_Army_Leader",
         "Role": "Not in the game",
         "Real_Name": "People\\'s Army Leader",
         "Attr": "Monsters",
         "Gender": "Unknown",
         "Race": "Unknown",
         "Appearance": "Unknown",
         "_deepnote_index_column": 1823
        },
        {
         "Name": "Alien_Guard",
         "Role": "Not in the game",
         "Real_Name": "Alien Guard",
         "Attr": "Uncategorized",
         "Gender": "Unknown",
         "Race": "Alien",
         "Appearance": "South Park: The Stick of Truth",
         "_deepnote_index_column": 1824
        },
        {
         "Name": "Jack_Garrett",
         "Role": "Not in the game",
         "Real_Name": "Jack Garrett",
         "Attr": "Uncategorized",
         "Gender": "Male",
         "Race": "Unknown",
         "Appearance": "Big Gay Al's Big Gay Boat Ride",
         "_deepnote_index_column": 1825
        },
        {
         "Name": "Pedophile_Cameraman",
         "Role": "Not in the game",
         "Real_Name": "Pedophile Cameraman",
         "Attr": "Uncategorized",
         "Gender": "Male",
         "Race": "Caucasian",
         "Appearance": "South Park: The Stick of Truth",
         "_deepnote_index_column": 1826
        },
        {
         "Name": "Sophie_Gray",
         "Role": "Not in the game",
         "Real_Name": "Sophie Gray",
         "Attr": "4th Graders",
         "Gender": "Female",
         "Race": "Unknown",
         "Appearance": "Basic Cable",
         "_deepnote_index_column": 1827
        },
        {
         "Name": "Jennifer_Love_Hewitt",
         "Role": "Not in the game",
         "Real_Name": "Jennifer Love Hewitt",
         "Attr": "Television‎ Celebrities",
         "Gender": "Female",
         "Race": "Caucasian",
         "Appearance": "Cow Days",
         "_deepnote_index_column": 1828
        },
        {
         "Name": "Teenager_Girl_with_Blue_Hood",
         "Role": "Not in the game",
         "Real_Name": "Teenager Girl with Blue Hood",
         "Attr": "Uncategorized",
         "Gender": "Female",
         "Race": "Unknown",
         "Appearance": "Stupid Spoiled Whore Video Playset",
         "_deepnote_index_column": 1829
        },
        {
         "Name": "Ted_Bundy",
         "Role": "Not in the game",
         "Real_Name": "Ted Bundy",
         "Attr": "Criminal Celebrities",
         "Gender": "Male",
         "Race": "Caucasian",
         "Appearance": "Hell on Earth 2006",
         "_deepnote_index_column": 1830
        },
        {
         "Name": "David_Spade",
         "Role": "Not in the game",
         "Real_Name": "David Spade",
         "Attr": "Uncategorized",
         "Gender": "Male",
         "Race": "Caucasian",
         "Appearance": "Funnybot",
         "_deepnote_index_column": 1831
        },
        {
         "Name": "Billy_Martin",
         "Role": "Not in the game",
         "Real_Name": "Boy with Blond Hair and Blue Shirt",
         "Attr": "Monsters",
         "Gender": "Male",
         "Race": "Unknown",
         "Appearance": "Quest for Ratings",
         "_deepnote_index_column": 1832
        },
        {
         "Name": "Jimmie_Johnson",
         "Role": "Not in the game",
         "Real_Name": "Jimmie Johnson",
         "Attr": "Uncategorized",
         "Gender": "Male",
         "Race": "Caucasian",
         "Appearance": "Poor and Stupid",
         "_deepnote_index_column": 1833
        },
        {
         "Name": "LeBron_James",
         "Role": "Not in the game",
         "Real_Name": "LeBron James",
         "Attr": "Sports Celebrities",
         "Gender": "Male",
         "Race": "African-American",
         "Appearance": "Band in China",
         "_deepnote_index_column": 1834
        },
        {
         "Name": "Little_Boy_with_Big_Glasses",
         "Role": "Not in the game",
         "Real_Name": "Little Boy with Big Glasses",
         "Attr": "1st-3rd Graders",
         "Gender": "Male",
         "Race": "Unknown",
         "Appearance": "Make Love, Not Warcraft",
         "_deepnote_index_column": 1835
        },
        {
         "Name": "Mark_Cotner",
         "Role": "Not in the game",
         "Real_Name": "Mark Cotner",
         "Attr": "Uncategorized",
         "Gender": "Male",
         "Race": "Unknown",
         "Appearance": "The Wacky Molestation Adventure",
         "_deepnote_index_column": 1836
        },
        {
         "Name": "Boris_Johnson",
         "Role": "Not in the game",
         "Real_Name": "Boris Johnson",
         "Attr": "Political Celebrities",
         "Gender": "Male",
         "Race": "Caucasian",
         "Appearance": "Members Only",
         "_deepnote_index_column": 1837
        },
        {
         "Name": "Angelina_Jolie",
         "Role": "Not in the game",
         "Real_Name": "Angelina Jolie",
         "Attr": "Uncategorized",
         "Gender": "Female",
         "Race": "Caucasian",
         "Appearance": "Lice Capades",
         "_deepnote_index_column": 1838
        },
        {
         "Name": "Irene",
         "Role": "Not in the game",
         "Real_Name": "Irene",
         "Attr": "Uncategorized",
         "Gender": "Female",
         "Race": "Unknown",
         "Appearance": "Casa Bonita",
         "_deepnote_index_column": 1839
        },
        {
         "Name": "Michael\\'s_Parents",
         "Role": "Not in the game",
         "Real_Name": "Michael\\'s Parents",
         "Attr": "Uncategorized",
         "Gender": "Unknown",
         "Race": "Unknown",
         "Appearance": "Unknown",
         "_deepnote_index_column": 1840
        },
        {
         "Name": "Elvis_Presley",
         "Role": "Not in the game",
         "Real_Name": "Elvis Presley",
         "Attr": "Music Celebrities",
         "Gender": "Male",
         "Race": "Caucasian",
         "Appearance": "Going Native",
         "_deepnote_index_column": 1841
        },
        {
         "Name": "Miss_Information",
         "Role": "Not in the game",
         "Real_Name": "Miss Information",
         "Attr": "Uncategorized",
         "Gender": "Female",
         "Race": "Caucasian",
         "Appearance": "Cherokee Hair Tampons",
         "_deepnote_index_column": 1842
        },
        {
         "Name": "Bobby_(\"Cartman_Joins_NAMBLA\")",
         "Role": "Not in the game",
         "Real_Name": "Bobby (\"Cartman Joins NAMBLA\")",
         "Attr": "Uncategorized",
         "Gender": "Male",
         "Race": "Caucasian",
         "Appearance": "Cartman Joins NAMBLA",
         "_deepnote_index_column": 1843
        },
        {
         "Name": "Bartles",
         "Role": "Not in the game",
         "Real_Name": "Bartles",
         "Attr": "5th-9th Graders",
         "Gender": "Male",
         "Race": "Unknown",
         "Appearance": "Clubhouses",
         "_deepnote_index_column": 1844
        },
        {
         "Name": "Sam,_David,_and_Chris",
         "Role": "Not in the game",
         "Real_Name": "Sam, David, and Chris",
         "Attr": "Uncategorized",
         "Gender": "Male",
         "Race": "Unknown",
         "Appearance": "It Hits the Fan",
         "_deepnote_index_column": 1845
        },
        {
         "Name": "Murphy_and_Jenkins",
         "Role": "Not in the game",
         "Real_Name": "Murphy and Jenkins",
         "Attr": "Uncategorized",
         "Gender": "Male",
         "Race": "Unknown",
         "Appearance": "Lil' Crime Stoppers",
         "_deepnote_index_column": 1846
        },
        {
         "Name": "Immigrant_Kids",
         "Role": "Not in the game",
         "Real_Name": "Immigrant Kids",
         "Attr": "Uncategorized",
         "Gender": "Male",
         "Race": "Unknown",
         "Appearance": "Unknown",
         "_deepnote_index_column": 1847
        },
        {
         "Name": "Brimmy",
         "Role": "Not in the game",
         "Real_Name": "Brimmy",
         "Attr": "4th Graders",
         "Gender": "Male",
         "Race": "Caucasian",
         "Appearance": "The Unaired Pilot",
         "_deepnote_index_column": 1848
        },
        {
         "Name": "Brandon_Carlile",
         "Role": "Not in the game",
         "Real_Name": "Brandon Carlile",
         "Attr": "Uncategorized",
         "Gender": "Male",
         "Race": "Unknown",
         "Appearance": "The Cissy",
         "_deepnote_index_column": 1849
        },
        {
         "Name": "Sarah_McLachlan",
         "Role": "Not in the game",
         "Real_Name": "Sarah McLachlan",
         "Attr": "Uncategorized",
         "Gender": "Female",
         "Race": "Unknown",
         "Appearance": "Crack Baby Athletic Association",
         "_deepnote_index_column": 1850
        },
        {
         "Name": "Domino",
         "Role": "Not in the game",
         "Real_Name": "Domino",
         "Attr": "Uncategorized",
         "Gender": "Male",
         "Race": "Caucasian",
         "Appearance": "Super Fun Time",
         "_deepnote_index_column": 1851
        },
        {
         "Name": "Marty",
         "Role": "Not in the game",
         "Real_Name": "Marty",
         "Attr": "Uncategorized",
         "Gender": "Male",
         "Race": "Caucasian",
         "Appearance": "Crack Baby Athletic Association",
         "_deepnote_index_column": 1852
        },
        {
         "Name": "Super_Best_Friends_(Group)",
         "Role": "Not in the game",
         "Real_Name": "Super Best Friends (Group)",
         "Attr": "Monsters",
         "Gender": "Male",
         "Race": "Unknown",
         "Appearance": "Unknown",
         "_deepnote_index_column": 1853
        },
        {
         "Name": "Cock_Magic_Ring_Announcer",
         "Role": "Not in the game",
         "Real_Name": "Cock Magic Ring Announcer",
         "Attr": "Monsters",
         "Gender": "Male",
         "Race": "Unknown",
         "Appearance": "Cock Magic",
         "_deepnote_index_column": 1854
        },
        {
         "Name": "Enchorito_Mark",
         "Role": "Not in the game",
         "Real_Name": "Enchorito Mark",
         "Attr": "Uncategorized",
         "Gender": "Male",
         "Race": "Caucasian",
         "Appearance": "The China Probrem",
         "_deepnote_index_column": 1855
        },
        {
         "Name": "Estella_Havisham",
         "Role": "Not in the game",
         "Real_Name": "Estella Havisham",
         "Attr": "4th Graders",
         "Gender": "Female",
         "Race": "British",
         "Appearance": "Pip",
         "_deepnote_index_column": 1856
        },
        {
         "Name": "Fred_Cartman",
         "Role": "Not in the game",
         "Real_Name": "Fred Cartman",
         "Attr": "5th-9th Graders",
         "Gender": "Male",
         "Race": "Caucasian",
         "Appearance": "Merry Christmas Charlie Manson!",
         "_deepnote_index_column": 1857
        },
        {
         "Name": "24-Hour_Clerks",
         "Role": "Not in the game",
         "Real_Name": "24-Hour Clerks",
         "Attr": "Uncategorized",
         "Gender": "Male",
         "Race": "Unknown",
         "Appearance": "Unknown",
         "_deepnote_index_column": 1858
        },
        {
         "Name": "Hannah_Williams",
         "Role": "Not in the game",
         "Real_Name": "Hannah Williams",
         "Attr": "1st-3rd Graders",
         "Gender": "Female",
         "Race": "Caucasian",
         "Appearance": "Erection Day",
         "_deepnote_index_column": 1859
        },
        {
         "Name": "Clyde_Frog",
         "Role": "Not in the game",
         "Real_Name": "Clyde Frog",
         "Attr": "Monsters",
         "Gender": "Male",
         "Race": "Unknown",
         "Appearance": "Cartman's Mom is a Dirty Slut",
         "_deepnote_index_column": 1860
        },
        {
         "Name": "Mrs._Miller",
         "Role": "Not in the game",
         "Real_Name": "Mrs. Miller",
         "Attr": "Uncategorized",
         "Gender": "Female",
         "Race": "Caucasian",
         "Appearance": "Medicinal Fried Chicken",
         "_deepnote_index_column": 1861
        },
        {
         "Name": "Mr._Gueermo",
         "Role": "Not in the game",
         "Real_Name": "Mr. Gueermo",
         "Attr": "Uncategorized",
         "Gender": "Male",
         "Race": "Caucasian",
         "Appearance": "Elementary School Musical",
         "_deepnote_index_column": 1862
        },
        {
         "Name": "Broadway_Bros",
         "Role": "Not in the game",
         "Real_Name": "Broadway Bros",
         "Attr": "Uncategorized",
         "Gender": "Male",
         "Race": "Unknown",
         "Appearance": "Unknown",
         "_deepnote_index_column": 1863
        },
        {
         "Name": "Mr._Streibel",
         "Role": "Not in the game",
         "Real_Name": "Mr. Streibel",
         "Attr": "Uncategorized",
         "Gender": "Male",
         "Race": "Unknown",
         "Appearance": "Cripple Fight",
         "_deepnote_index_column": 1864
        },
        {
         "Name": "Sef_Furman",
         "Role": "Not in the game",
         "Real_Name": "Sef Furman",
         "Attr": "Monsters",
         "Gender": "Male",
         "Race": "Unknown",
         "Appearance": "The Pandemic Special",
         "_deepnote_index_column": 1865
        },
        {
         "Name": "Kristen_Miller",
         "Role": "Not in the game",
         "Real_Name": "Kristen Miller",
         "Attr": "Television‎ Celebrities",
         "Gender": "Female",
         "Race": "Unknown",
         "Appearance": "Super Best Friends",
         "_deepnote_index_column": 1866
        },
        {
         "Name": "Grandma_Testaburger",
         "Role": "Not in the game",
         "Real_Name": "Grandma Testaburger",
         "Attr": "Monsters",
         "Gender": "Female",
         "Race": "Caucasian",
         "Appearance": "Tom's Rhinoplasty",
         "_deepnote_index_column": 1867
        },
        {
         "Name": "Jeffy\\'s_Farmer",
         "Role": "Not in the game",
         "Real_Name": "Jeffy\\'s Farmer",
         "Attr": "Uncategorized",
         "Gender": "Unknown",
         "Race": "Unknown",
         "Appearance": "Unknown",
         "_deepnote_index_column": 1868
        },
        {
         "Name": "Pastor_Phillips",
         "Role": "Not in the game",
         "Real_Name": "Pastor Phillips",
         "Attr": "Uncategorized",
         "Gender": "Male",
         "Race": "Caucasian",
         "Appearance": "Cartman Sucks",
         "_deepnote_index_column": 1869
        },
        {
         "Name": "Al_Pacino",
         "Role": "Not in the game",
         "Real_Name": "Al Pacino",
         "Attr": "Uncategorized",
         "Gender": "Male",
         "Race": "Caucasian",
         "Appearance": "HappyHolograms|#Happy Holograms",
         "_deepnote_index_column": 1870
        }
       ]
      },
      "text/plain": "                     Name              Role            Real_Name  \\\n0          Romper_Stomper  Other characters       Romper Stomper   \n1                 Francis  Other characters              Francis   \n2           Thomas_Tucker  Other characters        Thomas Tucker   \n3            Peter_Mullen  Other characters         Peter Mullen   \n4        Filmore_Anderson  Other characters     Filmore Anderson   \n...                   ...               ...                  ...   \n1866       Kristen_Miller   Not in the game       Kristen Miller   \n1867  Grandma_Testaburger   Not in the game  Grandma Testaburger   \n1868      Jeffy\\'s_Farmer   Not in the game      Jeffy\\'s Farmer   \n1869      Pastor_Phillips   Not in the game      Pastor Phillips   \n1870            Al_Pacino   Not in the game            Al Pacino   \n\n                         Attr   Gender       Race  \\\n0               Uncategorized     Male    Unknown   \n1                 4th Graders     Male  Caucasian   \n2               Uncategorized     Male    Unknown   \n3                 4th Graders     Male    Unknown   \n4              Kindergartners     Male  Caucasian   \n...                       ...      ...        ...   \n1866  Television‎ Celebrities   Female    Unknown   \n1867                 Monsters   Female  Caucasian   \n1868            Uncategorized  Unknown    Unknown   \n1869            Uncategorized     Male  Caucasian   \n1870            Uncategorized     Male  Caucasian   \n\n                           Appearance  \n0     Cartman's Silly Hate Crime 2000  \n1                   Tom's Rhinoplasty  \n2                     Tweek vs. Craig  \n3         Mystery of the Urinal Deuce  \n4                      Trapper Keeper  \n...                               ...  \n1866               Super Best Friends  \n1867                Tom's Rhinoplasty  \n1868                          Unknown  \n1869                    Cartman Sucks  \n1870  HappyHolograms|#Happy Holograms  \n\n[1870 rows x 7 columns]",
      "text/html": "<div>\n<style scoped>\n    .dataframe tbody tr th:only-of-type {\n        vertical-align: middle;\n    }\n\n    .dataframe tbody tr th {\n        vertical-align: top;\n    }\n\n    .dataframe thead th {\n        text-align: right;\n    }\n</style>\n<table border=\"1\" class=\"dataframe\">\n  <thead>\n    <tr style=\"text-align: right;\">\n      <th></th>\n      <th>Name</th>\n      <th>Role</th>\n      <th>Real_Name</th>\n      <th>Attr</th>\n      <th>Gender</th>\n      <th>Race</th>\n      <th>Appearance</th>\n    </tr>\n  </thead>\n  <tbody>\n    <tr>\n      <th>0</th>\n      <td>Romper_Stomper</td>\n      <td>Other characters</td>\n      <td>Romper Stomper</td>\n      <td>Uncategorized</td>\n      <td>Male</td>\n      <td>Unknown</td>\n      <td>Cartman's Silly Hate Crime 2000</td>\n    </tr>\n    <tr>\n      <th>1</th>\n      <td>Francis</td>\n      <td>Other characters</td>\n      <td>Francis</td>\n      <td>4th Graders</td>\n      <td>Male</td>\n      <td>Caucasian</td>\n      <td>Tom's Rhinoplasty</td>\n    </tr>\n    <tr>\n      <th>2</th>\n      <td>Thomas_Tucker</td>\n      <td>Other characters</td>\n      <td>Thomas Tucker</td>\n      <td>Uncategorized</td>\n      <td>Male</td>\n      <td>Unknown</td>\n      <td>Tweek vs. Craig</td>\n    </tr>\n    <tr>\n      <th>3</th>\n      <td>Peter_Mullen</td>\n      <td>Other characters</td>\n      <td>Peter Mullen</td>\n      <td>4th Graders</td>\n      <td>Male</td>\n      <td>Unknown</td>\n      <td>Mystery of the Urinal Deuce</td>\n    </tr>\n    <tr>\n      <th>4</th>\n      <td>Filmore_Anderson</td>\n      <td>Other characters</td>\n      <td>Filmore Anderson</td>\n      <td>Kindergartners</td>\n      <td>Male</td>\n      <td>Caucasian</td>\n      <td>Trapper Keeper</td>\n    </tr>\n    <tr>\n      <th>...</th>\n      <td>...</td>\n      <td>...</td>\n      <td>...</td>\n      <td>...</td>\n      <td>...</td>\n      <td>...</td>\n      <td>...</td>\n    </tr>\n    <tr>\n      <th>1866</th>\n      <td>Kristen_Miller</td>\n      <td>Not in the game</td>\n      <td>Kristen Miller</td>\n      <td>Television‎ Celebrities</td>\n      <td>Female</td>\n      <td>Unknown</td>\n      <td>Super Best Friends</td>\n    </tr>\n    <tr>\n      <th>1867</th>\n      <td>Grandma_Testaburger</td>\n      <td>Not in the game</td>\n      <td>Grandma Testaburger</td>\n      <td>Monsters</td>\n      <td>Female</td>\n      <td>Caucasian</td>\n      <td>Tom's Rhinoplasty</td>\n    </tr>\n    <tr>\n      <th>1868</th>\n      <td>Jeffy\\'s_Farmer</td>\n      <td>Not in the game</td>\n      <td>Jeffy\\'s Farmer</td>\n      <td>Uncategorized</td>\n      <td>Unknown</td>\n      <td>Unknown</td>\n      <td>Unknown</td>\n    </tr>\n    <tr>\n      <th>1869</th>\n      <td>Pastor_Phillips</td>\n      <td>Not in the game</td>\n      <td>Pastor Phillips</td>\n      <td>Uncategorized</td>\n      <td>Male</td>\n      <td>Caucasian</td>\n      <td>Cartman Sucks</td>\n    </tr>\n    <tr>\n      <th>1870</th>\n      <td>Al_Pacino</td>\n      <td>Not in the game</td>\n      <td>Al Pacino</td>\n      <td>Uncategorized</td>\n      <td>Male</td>\n      <td>Caucasian</td>\n      <td>HappyHolograms|#Happy Holograms</td>\n    </tr>\n  </tbody>\n</table>\n<p>1870 rows × 7 columns</p>\n</div>"
     },
     "metadata": {}
    }
   ],
   "execution_count": null
  },
  {
   "cell_type": "code",
   "metadata": {
    "cell_id": "00036-e28a612e-591f-4957-9377-71adc8460ef1",
    "deepnote_output_heights": [
     500
    ],
    "deepnote_to_be_reexecuted": false,
    "source_hash": "23096e71",
    "execution_start": 1638966217166,
    "execution_millis": 844,
    "deepnote_cell_type": "code"
   },
   "source": "plt.figure(figsize=(15,8))\nplt.grid()\nax = sns.countplot(y=df_final['Attr'], data=df_final)\nax.set_title('Counts of character categories based on the Sout Park Series', size = '15', fontweight='bold')\nplt.savefig('./plot_images/DF_series_categories_count.png')\nplt.show()",
   "outputs": [
    {
     "data": {
      "text/plain": "<Figure size 1080x576 with 1 Axes>",
      "image/png": "[encoded data removed]"
     },
     "metadata": {
      "needs_background": "light",
      "image/png": {
       "width": 977,
       "height": 498
      }
     },
     "output_type": "display_data"
    }
   ],
   "execution_count": null
  },
  {
   "cell_type": "code",
   "metadata": {
    "tags": [],
    "cell_id": "00041-2161ade5-3a30-49f1-8c63-e280cb19ad04",
    "deepnote_to_be_reexecuted": false,
    "source_hash": "1a627249",
    "execution_start": 1638966218019,
    "execution_millis": 8,
    "deepnote_output_heights": [
     21.1875
    ],
    "deepnote_cell_type": "code"
   },
   "source": "print('No. of South Park character categories: ',len(df_final.Attr.unique())-1)",
   "outputs": [
    {
     "name": "stdout",
     "text": "No. of South Park character categories:  19\n",
     "output_type": "stream"
    }
   ],
   "execution_count": null
  },
  {
   "cell_type": "markdown",
   "source": "The categories of the South Park characters were taken from the url content of this page: https://southpark.fandom.com/wiki/Portal:Characters/Categorized_Characters.\n\nThe bar chart above shows, that while most of the South Park characters remain uncategorized, there is yet a wide range of about 19 categories. It seems that one of the largest categories are the 4th Graders and the Monsters. This is expected, as the main SP characters are 4th graders, and there are a lot of weird monsters and talking animals in the series. Another noticeable category is the Political Celebrities, which the series loves to make fun of. ",
   "metadata": {
    "tags": [],
    "cell_id": "00041-d921f0b5-bb46-4b8b-a621-bbbb0d9cd7d5",
    "deepnote_cell_type": "markdown"
   }
  },
  {
   "cell_type": "code",
   "metadata": {
    "cell_id": "00037-41644058-8a2a-410a-98f4-c4cb0a34cf8d",
    "deepnote_output_heights": [
     500
    ],
    "deepnote_to_be_reexecuted": false,
    "source_hash": "3d3fb6a3",
    "execution_start": 1638966218043,
    "execution_millis": 425,
    "deepnote_cell_type": "code"
   },
   "source": "plt.figure(figsize=(15,8))\nplt.grid()\nax = sns.countplot(x=df_final['Gender'], data=df_final)\nax.set_title('Counts of character genders based on the Sout Park Series', size = '15', fontweight='bold')\nplt.savefig('./plot_images/DF_gender_count.png')\nplt.show()",
   "outputs": [
    {
     "data": {
      "text/plain": "<Figure size 1080x576 with 1 Axes>",
      "image/png": "[encoded data removed]"
     },
     "metadata": {
      "needs_background": "light",
      "image/png": {
       "width": 897,
       "height": 498
      }
     },
     "output_type": "display_data"
    }
   ],
   "execution_count": null
  },
  {
   "cell_type": "markdown",
   "source": "The bar chart on gender attributes of the dataframe object reveals that most of the SouthPark characters are male. Less than half of the characters are female and a small amount of the characters' gender is unknown . Considering the character categories discussed above, this is somewhat expected as some SP characters are not human (one thing to be mention is that the unknown category also includes non-binary genders). ",
   "metadata": {
    "tags": [],
    "cell_id": "00044-ff6fb7f3-7e60-4395-b473-c8da769f7b02",
    "deepnote_cell_type": "markdown"
   }
  },
  {
   "cell_type": "code",
   "metadata": {
    "tags": [],
    "cell_id": "00045-c63c1a3b-4f6b-4e7d-900f-e922bc7e7c4f",
    "deepnote_to_be_reexecuted": false,
    "source_hash": "265365dc",
    "execution_start": 1638966218475,
    "execution_millis": 14,
    "deepnote_cell_type": "code"
   },
   "source": "print('No. of South Park character categories: ',len(df_final.Race.unique())-1)",
   "outputs": [
    {
     "name": "stdout",
     "text": "No. of South Park character categories:  135\n",
     "output_type": "stream"
    }
   ],
   "execution_count": null
  },
  {
   "cell_type": "markdown",
   "source": "Since there are 135 (!) races, the bar chart was plotted for the top 10. ",
   "metadata": {
    "tags": [],
    "cell_id": "00046-7c87004e-c9cc-423c-a9c8-724330fa053c",
    "deepnote_cell_type": "markdown"
   }
  },
  {
   "cell_type": "code",
   "metadata": {
    "tags": [],
    "cell_id": "00042-0f0c7867-95c9-4415-8f36-d196c16153bd",
    "deepnote_to_be_reexecuted": false,
    "source_hash": "df7ea81b",
    "execution_start": 1638966218485,
    "execution_millis": 568,
    "deepnote_output_heights": [
     500
    ],
    "deepnote_cell_type": "code"
   },
   "source": "plt.figure(figsize=(15,8))\nplt.grid()\nax = sns.countplot(y=df_final['Race'], data=df_final, order=pd.value_counts(df_final['Race']).iloc[:10].index)\nax.set_title(\"Counts of characters' top 10 races based on the Sout Park Series\", size = '15', fontweight='bold')\nplt.savefig('./plot_images/DF_topraces_count.png')\nplt.show()",
   "outputs": [
    {
     "data": {
      "text/plain": "<Figure size 1080x576 with 1 Axes>",
      "image/png": "[encoded data removed]"
     },
     "metadata": {
      "needs_background": "light",
      "image/png": {
       "width": 958,
       "height": 498
      }
     },
     "output_type": "display_data"
    }
   ],
   "execution_count": null
  },
  {
   "cell_type": "markdown",
   "source": "The counts of the top races of the SP characters is displayed in the bar plot above. Unfortunately most of the SP characters did not have assigned a race or it was not properly retrieved from the TXT files. But as far as the TXT files were looked through, the first reason seems more plausible. The most frequent revealed race of the South Park characters is Caucasian. It is expected that most of the SP characters are caucasian, as the series action takes place in the fictional South Park town which is supposedly located in the Colorado state in the US. Following this, it is also explainable why the second most-frequent race in the series is African-American. ",
   "metadata": {
    "tags": [],
    "cell_id": "00046-e306dc58-361e-42a7-a677-9aaea451beb2",
    "deepnote_cell_type": "markdown"
   }
  },
  {
   "cell_type": "code",
   "metadata": {
    "cell_id": "00038-a3c1f633-dccd-4ecb-bf35-ad73d1d5b0a4",
    "deepnote_output_heights": [
     500
    ],
    "deepnote_to_be_reexecuted": false,
    "source_hash": "5da343b8",
    "execution_start": 1638966219113,
    "execution_millis": 922,
    "deepnote_cell_type": "code"
   },
   "source": "plt.figure(figsize=(15,8))\nplt.grid()\nax = sns.countplot(y=df_final['Role'], data=df_final)\nax.set_title('Counts of character roles based on the Sout Park \"Stick of Truth\" Game', size = '15', fontweight='bold')\nplt.savefig('./plot_images/DF_count_game.png')\nplt.show()",
   "outputs": [
    {
     "data": {
      "text/plain": "<Figure size 1080x576 with 1 Axes>",
      "image/png": "[encoded data removed]"
     },
     "metadata": {
      "needs_background": "light",
      "image/png": {
       "width": 972,
       "height": 498
      }
     },
     "output_type": "display_data"
    }
   ],
   "execution_count": null
  },
  {
   "cell_type": "code",
   "metadata": {
    "cell_id": "00039-1812a3ad-cd3e-44df-b41a-5afd980d2b4d",
    "deepnote_to_be_reexecuted": false,
    "source_hash": "8a3b60d1",
    "execution_start": 1638966219908,
    "execution_millis": 132,
    "deepnote_cell_type": "code"
   },
   "source": "count_not_in_game = df_final.Role.value_counts()['Not in the game']\n\nprop = (len(df_final)-count_not_in_game)/len(df_final)*100\nprint('Only {:.1f}% of the South Park characters are in the Stick of Truth Game!'.format(prop))",
   "outputs": [
    {
     "name": "stdout",
     "text": "Only 7.0% of the South Park characters are in the Stick of Truth Game!\n",
     "output_type": "stream"
    }
   ],
   "execution_count": null
  },
  {
   "cell_type": "markdown",
   "source": "The barplot above regarding the Stick of Truth Game is entirely different. Since the South Park universe is huge, it is expected that most of the characters are not in the Stick of Truth Game. \n\nReferring to the characters' categories in the game, the most frequent one is 'Other characters', followed by the 'Land of Zaron' and 'Enemies'. Playing the game, one can confirm that yes, a lot of the game characters belong to the 'Land of Zaron', which is the ally land assigned to find the stick of truth. However, most of the other characters make only a small appearance in the game, so it makes sense why they are not categorized. \n\nIn the game, one can battle with most characters, however they are not considered the main enemies of the story. This explains why the 'Enemies' category is not as large as the 'Other characters' category. ",
   "metadata": {
    "tags": [],
    "cell_id": "00049-d05581c9-6a63-4235-b547-4e83da396033",
    "deepnote_cell_type": "markdown"
   }
  },
  {
   "cell_type": "markdown",
   "source": "**Note**:\n\nSince most of the South Park series characters are uncategorized, it would be interesting to plot a graph and color the nodes based on the gender in the game\n\nLet's save the DataFrame object to a csv file",
   "metadata": {
    "cell_id": "00041-c665f299-4997-4862-bf6e-819e4296f843",
    "deepnote_cell_type": "markdown"
   }
  },
  {
   "cell_type": "code",
   "metadata": {
    "cell_id": "00042-54ba3b11-3070-4b06-b510-625d5e00c53d",
    "deepnote_to_be_reexecuted": false,
    "source_hash": "cc64a41",
    "execution_start": 1638966219921,
    "execution_millis": 19,
    "deepnote_cell_type": "code"
   },
   "source": "df_final.to_csv('df_final_SouthPark_characters.csv')",
   "outputs": [],
   "execution_count": null
  },
  {
   "cell_type": "markdown",
   "source": "### Helper functions - get the list of characters based on the API of each SP character\nBased on the wiki-page of each South Park character, the list of characters each SP character is connected to can be found by accessing 2 types of links.\n- Main description: https://southpark.fandom.com/wiki/NAME_CHARACTER ",
   "metadata": {
    "cell_id": "00006-6541180e-87e1-494d-aa87-b59e8f0a2dc9",
    "tags": [],
    "deepnote_cell_type": "markdown"
   }
  },
  {
   "cell_type": "code",
   "metadata": {
    "cell_id": "00007-6e74d8db-3f58-4035-b8ae-7fea174e97af",
    "deepnote_to_be_reexecuted": false,
    "execution_millis": 2,
    "execution_start": 1638966219954,
    "source_hash": "ec5d699b",
    "tags": [],
    "deepnote_cell_type": "code"
   },
   "source": "# based on the API for interractions\ndef get_characters_interactionslink(name):\n    \"\"\"\n    get_characters_interactionslink gets the list of characters connected to the character name using the main page 'Interactions' link section\n\n    Input:\n    :name: (str) API readable name of the given Sout Park character\n\n    Return:\n    :list_of_connected_characters: (str list) list of characters to which the character name is connected with - based on the API \n    \"\"\" \n    import urllib.request\n    import json\n    import re\n    import pandas as pd\n\n    baseURL = \"https://southpark.fandom.com/api.php?\"\n    titles = \"titles=\" + name + \"/Interactions\"\n    action = action = \"action=query\"\n    dataformat = \"format=json\"\n    content = \"prop=revisions&rvprop=content&rvslots=*\"\n\n    query = \"{}{}&{}&{}&{}\".format(baseURL, action, content, titles, dataformat)\n\n    response = urllib.request.urlopen(query)\n    data = response.read()\n    text = data.decode(\"utf-8\")\n\n    tojson = json.loads(text)\n\n    # extract characters\n    pattern = r\"\\=\\=\\[\\[([^:]*?)\\]\\]\\=\\=\"\n    tojson = re.findall(pattern, str(tojson))\n\n    list_of_connected_characters = []\n\n    for i in tojson:\n        if '|' in i: \n            i = i.split(\"|\")[1]\n        i = i.replace(' ','_')\n        list_of_connected_characters.append(i)\n\n    return list_of_connected_characters",
   "outputs": [],
   "execution_count": null
  },
  {
   "cell_type": "markdown",
   "source": "- Interactions: https://southpark.fandom.com/wiki/NAME_CHARACTER/Interactions ",
   "metadata": {
    "cell_id": "00045-d4175066-d318-4462-b625-9ecd7df330df",
    "deepnote_cell_type": "markdown"
   }
  },
  {
   "cell_type": "code",
   "metadata": {
    "cell_id": "00011-b31c21c0-e2c7-4d94-a6a7-cbd7f8010401",
    "deepnote_to_be_reexecuted": false,
    "execution_millis": 0,
    "execution_start": 1638966219992,
    "source_hash": "ace2c827",
    "tags": [],
    "deepnote_cell_type": "code"
   },
   "source": "def get_characters_mainpage(name):\n    \"\"\"\n    get_characters_interactionslink gets the list of characters connected to the character name using the main page description\n\n    Input:\n    :name: (str) API readable name of the given Sout Park character\n\n    Return:\n    :list_of_connected_characters: (str list) list of characters to which the character name is connected with - based on the API \n    \"\"\" \n    import urllib.request\n    import json\n    import re\n    import pandas as pd\n\n    baseURL = \"https://southpark.fandom.com/api.php?\"\n    titles = \"titles=\" + name \n    action = action = \"action=query\"\n    dataformat = \"format=json\"\n    content = \"prop=revisions&rvprop=content&rvslots=*\"\n\n    query = \"{}{}&{}&{}&{}\".format(baseURL, action, content, titles, dataformat)\n\n    response = urllib.request.urlopen(query)\n    data = response.read()\n    text = data.decode(\"utf-8\")\n\n    tojson = json.loads(text)\n\n    # extract characters - pattern 1\n    pattern = r\"\\=\\=\\=\\[*\\[*([^:]*?)\\]*\\]*\\=\\=\"\n    tojson1 = re.findall(pattern, str(tojson))\n\n    # extract characters - pattern 2\n    pattern2 = r\"\\[\\[([^:]*?)\\]\\]\"\n    tojson2 = re.findall(pattern2, str(tojson))\n\n    tojson1.extend(tojson2)\n\n    list_of_connected_characters = []\n    for i in tojson1:\n        if '|' in i: \n            i = i.split(\"|\")[1]\n        i = i.replace(' ','_')\n        list_of_connected_characters.append(i)\n\n    \n    return list_of_connected_characters",
   "outputs": [],
   "execution_count": null
  },
  {
   "cell_type": "markdown",
   "source": "### Main function - get the list of characters based on the API of each SP character",
   "metadata": {
    "cell_id": "00047-6ac7488d-f9fd-4bd7-a160-59c10b927164",
    "deepnote_cell_type": "markdown"
   }
  },
  {
   "cell_type": "code",
   "metadata": {
    "cell_id": "00013-0b3b5578-6b9c-448f-9bc5-d754c083736a",
    "deepnote_to_be_reexecuted": false,
    "execution_millis": 0,
    "execution_start": 1638966219993,
    "source_hash": "89cf3788",
    "tags": [],
    "deepnote_cell_type": "code"
   },
   "source": "# get characters \n# filter based on the characters in the game\ndef get_characters_list(name, namelist):\n    \"\"\"\n    get_characters_list gets the list of characters from both the Main page and the Characters subsection using the API\n\n    Input:\n    :name: (str) API readable name of the given Sout Park character\n    :namelist: (str list) already known list of characters based on which the the name filtering will be done\n\n    Return:\n    :connected_characters_main: (str list) filtered list of characters to which the character name is connected with\n    \"\"\" \n    connected_characters = []\n    list_of_connected_characters1 = get_characters_interactionslink(name)\n    list_of_connected_characters2 = get_characters_mainpage(name)\n    connected_characters.extend(list_of_connected_characters1)\n    connected_characters.extend(list_of_connected_characters2)\n    connect_char = set(connected_characters)\n    namelistset = set(namelist)\n    #retrun the intersection between namelist and the list of connected characters found on the wikipage\n    connected_characters_main = connect_char.intersection(namelistset)\n\n    return list(connected_characters_main)",
   "outputs": [],
   "execution_count": null
  },
  {
   "cell_type": "markdown",
   "source": "# Create and export Graph 1: South Park Series",
   "metadata": {
    "cell_id": "00049-6b195c40-870b-48d6-9956-26ebc0021cf5",
    "deepnote_cell_type": "markdown"
   }
  },
  {
   "cell_type": "code",
   "metadata": {
    "cell_id": "00014-4f98ca51-6319-41f0-b391-1620ea65f50e",
    "deepnote_to_be_reexecuted": false,
    "execution_millis": 4,
    "execution_start": 1638966219994,
    "source_hash": "10f088",
    "tags": [],
    "deepnote_cell_type": "code"
   },
   "source": "def create_node_plus_properties(name, df):\n    \"\"\"\n    create_node_plus_properties creates a truple which will be added to a node in a graph\n\n    Input:\n    :name: (str) API readable name of the given Sout Park character\n    :df: (DataFrame) DataFrame containing all the characers names from South Park plus their attributes\n\n    Return:\n    :(real_name,role,real_linked_characters_list): (str, str, str list) truple of attributes\n    \"\"\" \n    \n    row = df.loc[df['Name'] == name]\n    role = row.iloc[0,1]\n    real_name = row.iloc[0,2]\n    series_role = row.iloc[0,3]\n    gender =row.iloc[0,4]\n    race = row.iloc[0,5]\n    episode_name = row.iloc[0,6]\n    list_characters_s = list(df.Name)\n\n    if name == 'Jerome_%22Chef%22_McElroy#Darth_Chef':\n        name == 'Jerome_%22Chef%22_McElroy'\n\n    linked_characters_list = get_characters_list(name,list_characters_s)\n    return name,real_name,role,series_role,gender,race,episode_name,linked_characters_list",
   "outputs": [],
   "execution_count": null
  },
  {
   "cell_type": "markdown",
   "source": "Not: As creating the graph only needs to be done once and then it can be saved, this code section is commented out.",
   "metadata": {
    "cell_id": "00051-4542e32a-0bef-4df1-b0ae-58bc2e2e2a27",
    "deepnote_cell_type": "markdown"
   }
  },
  {
   "cell_type": "code",
   "metadata": {
    "cell_id": "00017-57cb9862-9e49-415c-a2d2-9e2110c28b24",
    "deepnote_output_heights": [
     38
    ],
    "deepnote_to_be_reexecuted": false,
    "execution_millis": 2,
    "execution_start": 1638966220003,
    "source_hash": "7c9bab5e",
    "tags": [],
    "deepnote_cell_type": "code"
   },
   "source": "# create the graph - takes a long time, so this block is commented out\n'''\nimport networkx as nx\nimport re\n\n#create graph:\nG = nx.DiGraph()\n\nchar_test_list = list(df_final['Name'])\n\n#add nodes\ni = 0\nfor name in list(df_final['Name']):\n\n    print(i)\n    print(name)\n    i +=1\n\n    node_name,node_real_name,node_role_game,node_role_series,node_gender,node_race,node_episode, node_linked_characters_list = create_node_plus_properties(name,df_final)\n\n    G.add_node(node_name, real_name = node_real_name,  \n                role_game = node_role_game, role_series = node_role_series,  \n                gender = node_gender, race = node_race, episode_name = node_episode,\n                node_list = node_linked_characters_list)\n\n    \n    #G.add_node(node_name, role_series = node_real_name, role = node_role_game, \n    #            role_series = node_role_series, gender = node_gender, node_list = node_linked_characters_list)\n    \n#add links\nfor n1 in list(G.nodes()):\n    #get theh characters each node is linking to\n    neighbours_list = G.nodes[n1]['node_list']\n\n    if neighbours_list:\n        for n2 in neighbours_list:\n            #add an edge\n            G.add_edge(n1,n2)\n'''",
   "outputs": [
    {
     "output_type": "execute_result",
     "execution_count": 39,
     "data": {
      "text/plain": "\"\\nimport networkx as nx\\nimport re\\n\\n#create graph:\\nG = nx.DiGraph()\\n\\nchar_test_list = list(df_final['Name'])\\n\\n#add nodes\\ni = 0\\nfor name in list(df_final['Name']):\\n\\n    print(i)\\n    print(name)\\n    i +=1\\n\\n    node_name,node_real_name,node_role_game,node_role_series,node_gender,node_race,node_episode, node_linked_characters_list = create_node_plus_properties(name,df_final)\\n\\n    G.add_node(node_name, real_name = node_real_name,  \\n                role_game = node_role_game, role_series = node_role_series,  \\n                gender = node_gender, race = node_race, episode_name = node_episode,\\n                node_list = node_linked_characters_list)\\n\\n    \\n    #G.add_node(node_name, role_series = node_real_name, role = node_role_game, \\n    #            role_series = node_role_series, gender = node_gender, node_list = node_linked_characters_list)\\n    \\n#add links\\nfor n1 in list(G.nodes()):\\n    #get theh characters each node is linking to\\n    neighbours_list = G.nodes[n1]['node_list']\\n\\n    if neighbours_list:\\n        for n2 in neighbours_list:\\n            #add an edge\\n            G.add_edge(n1,n2)\\n\""
     },
     "metadata": {}
    }
   ],
   "execution_count": null
  },
  {
   "cell_type": "markdown",
   "source": "## Save the graph for visualization in part B",
   "metadata": {
    "cell_id": "00053-a002abea-2dca-41e2-bf7a-262c99fe5736",
    "deepnote_cell_type": "markdown"
   }
  },
  {
   "cell_type": "code",
   "metadata": {
    "cell_id": "00023-bb970238-a7b5-4576-be75-22a17d6a2866",
    "deepnote_output_heights": [
     21.199996948242188
    ],
    "deepnote_to_be_reexecuted": false,
    "execution_millis": 5,
    "execution_start": 1638966220048,
    "source_hash": "fa23eda4",
    "tags": [],
    "deepnote_cell_type": "code"
   },
   "source": "# save graph\n'''\nfor name in list(G.nodes()):\n    del G.nodes[name]['node_list']\nnx.write_gexf(G, \"graph.gexf\")\n'''",
   "outputs": [
    {
     "output_type": "execute_result",
     "execution_count": 40,
     "data": {
      "text/plain": "'\\nfor name in list(G.nodes()):\\n    del G.nodes[name][\\'node_list\\']\\nnx.write_gexf(G, \"graph.gexf\")\\n'"
     },
     "metadata": {}
    }
   ],
   "execution_count": null
  },
  {
   "cell_type": "markdown",
   "source": "# Create and export Graph 2: South Park 'Stick of Truth' Game",
   "metadata": {
    "tags": [],
    "cell_id": "00058-05aa35ca-59f9-4885-8863-020d97348033",
    "deepnote_cell_type": "markdown"
   }
  },
  {
   "cell_type": "code",
   "metadata": {
    "tags": [],
    "cell_id": "00059-f1373ad2-9582-4f59-986c-b6ce225a98e9",
    "deepnote_to_be_reexecuted": false,
    "source_hash": "c4d1e549",
    "execution_start": 1638966220049,
    "execution_millis": 4,
    "deepnote_cell_type": "code"
   },
   "source": "# re-defining the dataframe object keeping only the characters from the game\nreplacement_mapping_dict = {\n    \"Red\": \"Red_McArthur\",\n    \"Kelly\": 'Kelly_(\"Rainforest_Schmainforest\")',\n    'Emily': 'Emily_Marx',\n    \"Mrs._Biggle\": \"Harriet_Biggle\",\n    \"Jenny_(kindergartener)\": \"Jenny_(Kindergartner)\",\n    r\"Dougie_O\\\\'Connell\": \"Dougie_O%27Connell\",\n    \"Jenny_(kindergartener)\": \"Jenny_(Kindergartner)\",\n}\n\nfor i in range(len(character_list_for_query_game)):\n    name = character_list_for_query_game[i]\n    if name in replacement_mapping_dict.keys():\n        character_list_for_query_game[i] = replacement_mapping_dict[name]\n\n#updating the dataframe object\ndf_game = df_final[df_final['Name'].isin(character_list_for_query_game)]",
   "outputs": [],
   "execution_count": null
  },
  {
   "cell_type": "markdown",
   "source": "#### Re-create the graph only based on the characters from the 'Stick of Truth' Game",
   "metadata": {
    "tags": [],
    "cell_id": "00060-21e01be5-daa8-474f-be92-12154b911e80",
    "deepnote_cell_type": "markdown"
   }
  },
  {
   "cell_type": "code",
   "metadata": {
    "tags": [],
    "cell_id": "00060-ff4cd60f-79e6-4f9f-b59c-bcc685712591",
    "deepnote_to_be_reexecuted": false,
    "source_hash": "5712743e",
    "execution_start": 1638966220050,
    "execution_millis": 0,
    "deepnote_cell_type": "code"
   },
   "source": "def create_node_plus_properties_game(name, df):\n    \"\"\"\n    create_node_plus_properties creates a truple which will be added to a node in a graph\n\n    Input:\n    :name: (str) API readable name of the given Sout Park character\n    :df: (DataFrame) DataFrame containing all the characers names from South Park plus their attributes\n\n    Return:\n    :(real_name,role,real_linked_characters_list): (str, str, str list) truple of attributes\n    \"\"\" \n    \n    row = df.loc[df['Name'] == name]\n    role = row.iloc[0,1]\n    real_name = row.iloc[0,2]\n    gender = row.iloc[0,4]\n    race = row.iloc[0,5]\n    list_characters_s = list(df.Name)\n\n    if name == 'Jerome_%22Chef%22_McElroy#Darth_Chef':\n        name == 'Jerome_%22Chef%22_McElroy'\n\n    linked_characters_list = get_characters_list(name,list_characters_s)\n    return name, role, real_name, gender, race, linked_characters_list",
   "outputs": [],
   "execution_count": null
  },
  {
   "cell_type": "code",
   "metadata": {
    "tags": [],
    "cell_id": "00062-c32a2bca-ec49-4415-b4ce-0080871989c1",
    "deepnote_to_be_reexecuted": false,
    "source_hash": "64c46d34",
    "execution_start": 1638966220095,
    "execution_millis": 28480,
    "deepnote_cell_type": "code"
   },
   "source": "# create the Game graph\nimport networkx as nx\nimport re\n\n#create graph:\nG = nx.DiGraph()\n\nchar_test_list = list(df_game['Name'])\n#add nodes\n#i = 0\nfor name in list(df_game['Name']):\n    name, role, real_name, gender, race, linked_characters_list = create_node_plus_properties_game(name,df_game)\n    G.add_node(name, real_name = real_name, role = role, \n                gender = gender, race = race,\n                node_list = linked_characters_list)\n    #print(i)\n    #print(name)\n    #i +=1\n    \n#add links\nfor n1 in list(G.nodes()):\n    #get theh characters each node is linking to\n    neighbours_list = G.nodes[n1]['node_list']\n\n    if neighbours_list:\n        for n2 in neighbours_list:\n            #add an edge\n            G.add_edge(n1,n2)",
   "outputs": [],
   "execution_count": null
  },
  {
   "cell_type": "code",
   "metadata": {
    "tags": [],
    "cell_id": "00063-47325037-3f39-46a6-9b2d-a7b4d971b25d",
    "deepnote_to_be_reexecuted": false,
    "source_hash": "6136c922",
    "execution_start": 1638966248604,
    "execution_millis": 5,
    "deepnote_cell_type": "code"
   },
   "source": "# extract the connected component\nGN_game = G.subgraph(nx.shortest_path(G.to_undirected(),'Eric_Cartman')).to_undirected()",
   "outputs": [],
   "execution_count": null
  },
  {
   "cell_type": "code",
   "metadata": {
    "tags": [],
    "cell_id": "00064-90944b9e-c2b7-404e-b9e8-71ec474440dc",
    "deepnote_to_be_reexecuted": false,
    "source_hash": "98502930",
    "execution_start": 1638966248617,
    "execution_millis": 688,
    "deepnote_output_heights": [
     21.1875
    ],
    "deepnote_cell_type": "code"
   },
   "source": "\nfor name in list(GN_game.nodes()):\n    del GN_game.nodes[name]['node_list']\n\n# save graph\nnx.write_gexf(GN_game, \"graph_game.gexf\")",
   "outputs": [],
   "execution_count": null
  },
  {
   "cell_type": "markdown",
   "source": "# Compile clear tokens out of the SP characters' TXT files:",
   "metadata": {
    "cell_id": "00055-545fb7bd-9b36-406b-b626-212b2d9ce4b0",
    "deepnote_cell_type": "markdown"
   }
  },
  {
   "cell_type": "code",
   "metadata": {
    "cell_id": "00056-26c56798-8d38-441b-8189-f3658ae56797",
    "deepnote_output_heights": [
     null,
     21.199996948242188
    ],
    "deepnote_to_be_reexecuted": false,
    "source_hash": "b26c432a",
    "execution_start": 1638966249315,
    "execution_millis": 183,
    "deepnote_cell_type": "code"
   },
   "source": "# we import the nltk package in order to download the stopwords, punctuation and etc. which need to be filtered out from the txt files: \nfrom nltk.corpus import stopwords\nimport nltk\nnltk.download('stopwords')\n\nimport nltk\nnltk.download('punkt')\n\nimport nltk\nnltk.download('wordnet')",
   "outputs": [
    {
     "name": "stderr",
     "text": "[nltk_data] Downloading package stopwords to /root/nltk_data...\n[nltk_data]   Package stopwords is already up-to-date!\n[nltk_data] Downloading package punkt to /root/nltk_data...\n[nltk_data]   Package punkt is already up-to-date!\n[nltk_data] Downloading package wordnet to /root/nltk_data...\n[nltk_data]   Package wordnet is already up-to-date!\n",
     "output_type": "stream"
    },
    {
     "output_type": "execute_result",
     "execution_count": 46,
     "data": {
      "text/plain": "True"
     },
     "metadata": {}
    }
   ],
   "execution_count": null
  },
  {
   "cell_type": "code",
   "metadata": {
    "tags": [],
    "cell_id": "00075-996c8c42-bddc-45a9-9a87-32d774fa61cb",
    "deepnote_to_be_reexecuted": false,
    "source_hash": "ccaa102d",
    "execution_start": 1638966249510,
    "execution_millis": 4211347,
    "deepnote_cell_type": "code"
   },
   "source": "df_final[\"Name\"] = df_final[\"Name\"].replace({'Charlie/Marcus_Andrews_and_his_Superior_Officer':'CharlieMarcus_Andrews_and_his_Superior_Officer'})",
   "outputs": [],
   "execution_count": null
  },
  {
   "cell_type": "code",
   "metadata": {
    "tags": [],
    "cell_id": "00076-c7a57963-76d8-4c22-b02c-b0b45e8f7729",
    "deepnote_to_be_reexecuted": false,
    "source_hash": "4130719",
    "execution_start": 1638966249525,
    "execution_millis": 1,
    "deepnote_cell_type": "code"
   },
   "source": "def give_clean_tokens(name, namelist, file_path):\n\n    \"\"\"\n    give_clean_tokens gives the clear word tokens used for one SP character - using its correspondent txt file \n\n    Input:\n    :name: (str) name of the given SP character\n    :namelist: (list) list containing all the characers names from SP \n    :file_path: (str) a folder containing the clean txt files from the SP wiki pages which I have processed in Week 6\n\n    Return:\n    :clear_token_list: (list) a list with all the clean token words processed from the txt file\n    \"\"\" \n    import re\n    import urllib\n    from nltk.tokenize import word_tokenize\n    from nltk.stem import WordNetLemmatizer \n    from urllib.parse import quote\n    \n    #Charlie is a special case\n    #for i in name:\n    #    if i== 'Charlie/Marcus_Andrews_and_his_Superior_Officer':\n    #        i= 'CharlieMarcus_Andrews_and_his_Superior_Officer'\n    #if name == 'Jerome_%22Chef%22_McElroy#Darth_Chef':\n    #    name = 'Jerome_%22Chef%22_McElroy'\n\n    #title = urllib.parse.quote_plus(str(name))\n    #title2 = title.replace(' ','_')\n    filename = file_path + name + '.txt'\n    f = open(filename, \"rt\" )\n    text= f.read()\n\n    #pattern for sections\n    # pattern 1 starting from description\n    pat1 = r\"\\'''(.*)\"\n    # everything between square brackets\n    pat2 = r'(\\[\\[(.*?)\\]\\])'\n    # everything between cyrly brackets\n    pat3 = r'\\{\\{(.*?)\\}\\}'\n    #remove images info if existent\n    pat4 = r'\"Images.*<'\n    # remove everything after Absences\n    pat5 = r'==Absences.*'\n    pat6 = r'==References.*'\n    pat7 = r'==Gallery.*'\n    pat8 = r'==Video Games.*'\n    #pat9 = r'==Prominence.*'\n    # everything that is in between <>\n    pat10 = r'\\<(.*?)\\>' \n    # remove all headers\n    pat11 = r'(\\\\n:?)([\\=]+[^:]*?[\\=]+)(\\\\:?)'\n    # remove all \\n\n    pat12 = r'\\\\n'\n    # remove punctuations\n    pat13 = r'[^\\w\\s]'\n    # remove more than one empty space\n    pat14 = r' +'\n\n    text = re.findall(pat1, str(text))\n    text = re.sub(pat2, '', str(text))\n    text = re.sub(pat3, '', str(text))\n    text = re.sub(pat4, '', str(text))\n    text = re.sub(pat5, '', str(text))\n    text = re.sub(pat6, '', str(text))\n    text = re.sub(pat7, '', str(text))\n    text = re.sub(pat8, '', str(text))\n    #text = re.sub(pat9, '', str(text))\n    text = re.sub(pat10, '', str(text))\n    text = re.sub(pat11, '', str(text))\n    text = re.sub(pat12, '', str(text))\n    text = re.sub(pat13, ' ', str(text))\n    text = re.sub(pat14, ' ', str(text))\n    \n    \n    #remove stop words\n    text_tokens = word_tokenize(text)\n\n    data_without_sw = [word for word in text_tokens if not word in stopwords.words('english')]\n    #lowercase each letter\n    data_lowercase = list(map(str.lower, data_without_sw)) \n\n    #lemmatize each word\n    lemmatizer = WordNetLemmatizer()\n    data_lemmatized = [lemmatizer.lemmatize(word) for word in data_lowercase]\n\n    #remove character names\n\n    #df_final['Real_Name']\n    #['stan marsh', 'eric cartman'] -> ['stan', 'marsh', 'eric', 'cartman']\n\n\n    data_without_characters = data_lemmatized.copy()\n    \n    for character in namelist:\n        data_without_characters_names = [x for x in data_without_characters if x!=character.lower()]\n       # data_without_characters = list(filter(lambda val: val !=  character.lower(), data_without_characters))\n\n    # save the clean tokens as txt files - will not do for this case\n\n    path = '/work/Characters_clean_tokens/'\n    with open(path + name + '.txt', 'w') as f:\n        for item in data_without_characters_names:\n            f.write(\"%s\\n\" % item)\n\n    clear_token_list = data_without_characters_names.copy()\n\n    return clear_token_list",
   "outputs": [],
   "execution_count": null
  },
  {
   "cell_type": "code",
   "metadata": {
    "cell_id": "00058-75ba20fc-8271-4333-938a-165f44a3260f",
    "deepnote_to_be_reexecuted": false,
    "source_hash": "826a7708",
    "execution_start": 1638966249540,
    "execution_millis": 5,
    "deepnote_cell_type": "code"
   },
   "source": "# ist of names to exclude from the clear tokens\nnamelist = df_final.Real_Name.str.split(\" \").explode().values",
   "outputs": [],
   "execution_count": null
  },
  {
   "cell_type": "markdown",
   "source": "Note: This section is commented out as we only need to run this once to compile the clear tokens for each TXT file:",
   "metadata": {
    "cell_id": "00059-327dd155-bdbd-4956-b097-0a39e9d5c4f3",
    "deepnote_cell_type": "markdown"
   }
  },
  {
   "cell_type": "code",
   "metadata": {
    "cell_id": "00060-8203bcf0-69a1-4bf5-afa5-92e99a10860d",
    "deepnote_output_heights": [
     21.1875
    ],
    "deepnote_to_be_reexecuted": false,
    "source_hash": "5186ba2c",
    "execution_start": 1638966249591,
    "execution_millis": 347962,
    "deepnote_cell_type": "code"
   },
   "source": "file_path = '/work/Characters_txt_files/'\nfor name in tqdm(df_final.itertuples()):\n    give_clean_tokens(name.Name, namelist, file_path)",
   "outputs": [
    {
     "name": "stderr",
     "text": "1870it [05:47,  5.38it/s]\n",
     "output_type": "stream"
    }
   ],
   "execution_count": null
  },
  {
   "cell_type": "markdown",
   "source": "## That's all for the data mining of the South Park wiki fandoms! For graphs and text analysis check Part B!",
   "metadata": {
    "cell_id": "00061-b59610fb-2c41-4921-9b00-e1574a4ba666",
    "deepnote_cell_type": "markdown"
   }
  },
  {
   "cell_type": "markdown",
   "source": "<a style='text-decoration:none;line-height:16px;display:flex;color:#5B5B62;padding:10px;justify-content:end;' href='https://deepnote.com?utm_source=created-in-deepnote-cell&projectId=20df22e1-bd6b-4c24-9922-b8282aa7b6df' target=\"_blank\">\n<img alt='Created in deepnote.com' style='display:inline;max-height:16px;margin:0px;margin-right:7.5px;' src='data:image/svg+xml;base64,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' > </img>\nCreated in <span style='font-weight:600;margin-left:4px;'>Deepnote</span></a>",
   "metadata": {
    "tags": [],
    "created_in_deepnote_cell": true,
    "deepnote_cell_type": "markdown"
   }
  }
 ],
 "nbformat": 4,
 "nbformat_minor": 2,
 "metadata": {
  "deepnote": {
   "is_reactive": false
  },
  "deepnote_execution_queue": [],
  "deepnote_notebook_id": "f7ddbfe3-3e0a-4dc6-9f20-3ed296842d37",
  "kernelspec": {
   "display_name": "Python 3 (ipykernel)",
   "language": "python",
   "name": "python3"
  },
  "language_info": {
   "codemirror_mode": {
    "name": "ipython",
    "version": 3
   },
   "file_extension": ".py",
   "mimetype": "text/x-python",
   "name": "python",
   "nbconvert_exporter": "python",
   "pygments_lexer": "ipython3",
   "version": "3.8.10"
  }
 }
}